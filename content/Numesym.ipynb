{
  "metadata": {
    "language_info": {
      "codemirror_mode": {
        "name": "python",
        "version": 3
      },
      "file_extension": ".py",
      "mimetype": "text/x-python",
      "name": "python",
      "nbconvert_exporter": "python",
      "pygments_lexer": "ipython3",
      "version": "3.8"
    },
    "kernelspec": {
      "name": "python",
      "display_name": "Python (Pyodide)",
      "language": "python"
    },
    "widgets": {
      "application/vnd.jupyter.widget-state+json": {
        "version_major": 2,
        "version_minor": 0,
        "state": {
          "5496f4218b2a415d87b72ed11051c295": {
            "model_name": "LayoutModel",
            "model_module": "@jupyter-widgets/base",
            "model_module_version": "2.0.0",
            "state": {
              "margin": "0px 0px 10px 0px",
              "width": "250px"
            }
          },
          "651b706fd5124f56967f611b8891d4ef": {
            "model_name": "HTMLStyleModel",
            "model_module": "@jupyter-widgets/controls",
            "model_module_version": "2.0.0",
            "state": {
              "description_width": ""
            }
          },
          "ab359e55f9d04d03a2de78ea6a6507c8": {
            "model_name": "HTMLModel",
            "model_module": "@jupyter-widgets/controls",
            "model_module_version": "2.0.0",
            "state": {
              "value": "<center><font face=\"Times New Roman\"><font size=\"5\">                 Parametros de calculo                 </font></font></center>",
              "layout": "IPY_MODEL_5496f4218b2a415d87b72ed11051c295",
              "style": "IPY_MODEL_651b706fd5124f56967f611b8891d4ef"
            }
          },
          "bd0d14ed65e648198beb05f37272e60c": {
            "model_name": "LayoutModel",
            "model_module": "@jupyter-widgets/base",
            "model_module_version": "2.0.0",
            "state": {
              "margin": "0px 0px 10px 0px",
              "width": "225px"
            }
          },
          "6610636f39c84666a18e1dcdbeeb4ae2": {
            "model_name": "DescriptionStyleModel",
            "model_module": "@jupyter-widgets/controls",
            "model_module_version": "2.0.0",
            "state": {
              "description_width": ""
            }
          },
          "4e6ae5fdf7d64d2ea8da91934d1dee32": {
            "model_name": "DropdownModel",
            "model_module": "@jupyter-widgets/controls",
            "model_module_version": "2.0.0",
            "state": {
              "description": "Apoyo 1",
              "index": 1,
              "_options_labels": [
                "Elastico",
                "Fijo"
              ],
              "layout": "IPY_MODEL_bd0d14ed65e648198beb05f37272e60c",
              "style": "IPY_MODEL_6610636f39c84666a18e1dcdbeeb4ae2"
            }
          },
          "d66dd047c62b4106bbafbec71f2e2701": {
            "model_name": "LayoutModel",
            "model_module": "@jupyter-widgets/base",
            "model_module_version": "2.0.0",
            "state": {
              "margin": "0px 0px 10px 0px",
              "width": "225px"
            }
          },
          "29b4e863b2b0410e92cac17816749f87": {
            "model_name": "DescriptionStyleModel",
            "model_module": "@jupyter-widgets/controls",
            "model_module_version": "2.0.0",
            "state": {
              "description_width": ""
            }
          },
          "7e63e3eeb77b417c8032cbb70e98b067": {
            "model_name": "DropdownModel",
            "model_module": "@jupyter-widgets/controls",
            "model_module_version": "2.0.0",
            "state": {
              "description": "Apoyo 2",
              "index": 1,
              "_options_labels": [
                "Elastico",
                "Fijo"
              ],
              "layout": "IPY_MODEL_d66dd047c62b4106bbafbec71f2e2701",
              "style": "IPY_MODEL_29b4e863b2b0410e92cac17816749f87"
            }
          },
          "758f99c7d21845e4bff1fe30642c7913": {
            "model_name": "LayoutModel",
            "model_module": "@jupyter-widgets/base",
            "model_module_version": "2.0.0",
            "state": {
              "height": "auto",
              "margin": "0px 30px 0px 0px",
              "width": "30%"
            }
          },
          "1be1451e2d1b41ceb20cb1012ea7f493": {
            "model_name": "DescriptionStyleModel",
            "model_module": "@jupyter-widgets/controls",
            "model_module_version": "2.0.0",
            "state": {
              "description_width": ""
            }
          },
          "efa860160aa84beb86ff6977157e6ea0": {
            "model_name": "DropdownModel",
            "model_module": "@jupyter-widgets/controls",
            "model_module_version": "2.0.0",
            "state": {
              "description": "Grafica de: ",
              "index": 0,
              "_options_labels": [
                "Cortantes",
                "Momentos",
                "Pendientes",
                "Deflexiones"
              ],
              "layout": "IPY_MODEL_758f99c7d21845e4bff1fe30642c7913",
              "style": "IPY_MODEL_1be1451e2d1b41ceb20cb1012ea7f493"
            }
          },
          "cb6d07484bc043e5973a9f7fca24b2ec": {
            "model_name": "LayoutModel",
            "model_module": "@jupyter-widgets/base",
            "model_module_version": "2.0.0",
            "state": {
              "margin": "0px 0px 10px 0px",
              "width": "225px"
            }
          },
          "fa1670f513c44da9b7bdbeca788599b2": {
            "model_name": "DescriptionStyleModel",
            "model_module": "@jupyter-widgets/controls",
            "model_module_version": "2.0.0",
            "state": {
              "description_width": ""
            }
          },
          "ef1901e0bd174dab8dc5565c49ba2ac9": {
            "model_name": "BoundedFloatTextModel",
            "model_module": "@jupyter-widgets/controls",
            "model_module_version": "2.0.0",
            "state": {
              "description": "D (kg/m3)",
              "value": 7850,
              "max": 10000,
              "min": 10,
              "step": 10,
              "layout": "IPY_MODEL_cb6d07484bc043e5973a9f7fca24b2ec",
              "style": "IPY_MODEL_fa1670f513c44da9b7bdbeca788599b2"
            }
          },
          "e66bbb18c4f24e6ca8565afb004ddd0b": {
            "model_name": "LayoutModel",
            "model_module": "@jupyter-widgets/base",
            "model_module_version": "2.0.0",
            "state": {
              "margin": "0px 0px 10px 0px",
              "width": "225px"
            }
          },
          "87bc57d72e7842ecbf1385e13420e428": {
            "model_name": "DescriptionStyleModel",
            "model_module": "@jupyter-widgets/controls",
            "model_module_version": "2.0.0",
            "state": {
              "description_width": ""
            }
          },
          "e6f592bd9ad44ec19cc19aadf40616a6": {
            "model_name": "BoundedFloatTextModel",
            "model_module": "@jupyter-widgets/controls",
            "model_module_version": "2.0.0",
            "state": {
              "description": "Ø ext. (mm)",
              "value": 50,
              "max": 10000,
              "min": 10,
              "step": 0.005,
              "layout": "IPY_MODEL_e66bbb18c4f24e6ca8565afb004ddd0b",
              "style": "IPY_MODEL_87bc57d72e7842ecbf1385e13420e428"
            }
          },
          "2343746e5bf44b7ba7e47541f5ff65b4": {
            "model_name": "LayoutModel",
            "model_module": "@jupyter-widgets/base",
            "model_module_version": "2.0.0",
            "state": {
              "margin": "0px 0px 10px 0px",
              "width": "225px"
            }
          },
          "c25cf801a070472cad38c5f01332e0dc": {
            "model_name": "DescriptionStyleModel",
            "model_module": "@jupyter-widgets/controls",
            "model_module_version": "2.0.0",
            "state": {
              "description_width": ""
            }
          },
          "5516002c89a444058c6437453c4e5b83": {
            "model_name": "BoundedFloatTextModel",
            "model_module": "@jupyter-widgets/controls",
            "model_module_version": "2.0.0",
            "state": {
              "description": "Ø int. (mm)",
              "value": 25,
              "max": 10000,
              "step": 0.005,
              "layout": "IPY_MODEL_2343746e5bf44b7ba7e47541f5ff65b4",
              "style": "IPY_MODEL_c25cf801a070472cad38c5f01332e0dc"
            }
          },
          "217f277b97104b918878d7c0d4ea047c": {
            "model_name": "LayoutModel",
            "model_module": "@jupyter-widgets/base",
            "model_module_version": "2.0.0",
            "state": {
              "margin": "0px 0px 10px 0px",
              "width": "225px"
            }
          },
          "0c98aae3cd7e4741bba45b9081905f92": {
            "model_name": "DescriptionStyleModel",
            "model_module": "@jupyter-widgets/controls",
            "model_module_version": "2.0.0",
            "state": {
              "description_width": ""
            }
          },
          "55f5ab65e965420fbe6e2fbef7bd67bb": {
            "model_name": "BoundedFloatTextModel",
            "model_module": "@jupyter-widgets/controls",
            "model_module_version": "2.0.0",
            "state": {
              "description": "L (mm)",
              "value": 1000,
              "max": 10000,
              "min": 10,
              "step": 0.05,
              "layout": "IPY_MODEL_217f277b97104b918878d7c0d4ea047c",
              "style": "IPY_MODEL_0c98aae3cd7e4741bba45b9081905f92"
            }
          },
          "7d41e8df4e5149d58ffd0928750f10da": {
            "model_name": "LayoutModel",
            "model_module": "@jupyter-widgets/base",
            "model_module_version": "2.0.0",
            "state": {
              "margin": "0px 0px 10px 0px",
              "width": "225px"
            }
          },
          "8ea4d7473c234a4ca3c368cfa58dcc2b": {
            "model_name": "DescriptionStyleModel",
            "model_module": "@jupyter-widgets/controls",
            "model_module_version": "2.0.0",
            "state": {
              "description_width": ""
            }
          },
          "3adeec75ee8245609b19761577058c23": {
            "model_name": "BoundedIntTextModel",
            "model_module": "@jupyter-widgets/controls",
            "model_module_version": "2.0.0",
            "state": {
              "description": "Elementos",
              "value": 5,
              "max": 1000,
              "layout": "IPY_MODEL_7d41e8df4e5149d58ffd0928750f10da",
              "style": "IPY_MODEL_8ea4d7473c234a4ca3c368cfa58dcc2b"
            }
          },
          "2625b243405d4ab7b98a4abc22ccd1fa": {
            "model_name": "LayoutModel",
            "model_module": "@jupyter-widgets/base",
            "model_module_version": "2.0.0",
            "state": {
              "margin": "0px 0px 10px 0px",
              "width": "225px"
            }
          },
          "d4cda8a72a1b476188b20cda89a68b5a": {
            "model_name": "DescriptionStyleModel",
            "model_module": "@jupyter-widgets/controls",
            "model_module_version": "2.0.0",
            "state": {
              "description_width": ""
            }
          },
          "7de721df5fee4fb98233c8aacfcf7f6e": {
            "model_name": "FloatTextModel",
            "model_module": "@jupyter-widgets/controls",
            "model_module_version": "2.0.0",
            "state": {
              "description": "F (KN)",
              "value": -50,
              "layout": "IPY_MODEL_2625b243405d4ab7b98a4abc22ccd1fa",
              "style": "IPY_MODEL_d4cda8a72a1b476188b20cda89a68b5a"
            }
          },
          "1c9b335e5b1e4aa9ad7bc3f76f7530cf": {
            "model_name": "LayoutModel",
            "model_module": "@jupyter-widgets/base",
            "model_module_version": "2.0.0",
            "state": {
              "margin": "0px 0px 10px 0px",
              "width": "225px"
            }
          },
          "3f78aca546754e83afa0aea081490716": {
            "model_name": "DescriptionStyleModel",
            "model_module": "@jupyter-widgets/controls",
            "model_module_version": "2.0.0",
            "state": {
              "description_width": ""
            }
          },
          "5480b0a90cfe4056b63c73bc11b7662c": {
            "model_name": "FloatTextModel",
            "model_module": "@jupyter-widgets/controls",
            "model_module_version": "2.0.0",
            "state": {
              "description": "M (KN.m)",
              "value": -10,
              "layout": "IPY_MODEL_1c9b335e5b1e4aa9ad7bc3f76f7530cf",
              "style": "IPY_MODEL_3f78aca546754e83afa0aea081490716"
            }
          },
          "a5e0b7de5c85443480e77fcb4f4d1188": {
            "model_name": "LayoutModel",
            "model_module": "@jupyter-widgets/base",
            "model_module_version": "2.0.0",
            "state": {
              "margin": "0px 0px 10px 0px"
            }
          },
          "2744cb00b2194f6c821ffba3b40c49eb": {
            "model_name": "SliderStyleModel",
            "model_module": "@jupyter-widgets/controls",
            "model_module_version": "2.0.0",
            "state": {
              "description_width": ""
            }
          },
          "0d450bff50dd40289483669f2a291dd4": {
            "model_name": "FloatSliderModel",
            "model_module": "@jupyter-widgets/controls",
            "model_module_version": "2.0.0",
            "state": {
              "description": "X",
              "value": 556.5,
              "max": 1000,
              "step": 0.1,
              "behavior": "drag-tap",
              "layout": "IPY_MODEL_a5e0b7de5c85443480e77fcb4f4d1188",
              "style": "IPY_MODEL_2744cb00b2194f6c821ffba3b40c49eb"
            }
          },
          "3a2210c4ef54439d85f743c0ee112a5d": {
            "model_name": "LayoutModel",
            "model_module": "@jupyter-widgets/base",
            "model_module_version": "2.0.0",
            "state": {
              "margin": "0px 0px 10px 0px",
              "width": "225px"
            }
          },
          "73020e5f27a2404ea8afda5fbc7a42d6": {
            "model_name": "CheckboxStyleModel",
            "model_module": "@jupyter-widgets/controls",
            "model_module_version": "2.0.0",
            "state": {
              "description_width": ""
            }
          },
          "16b8d7f9c4444d3fb2e5aa4775226fa4": {
            "model_name": "CheckboxModel",
            "model_module": "@jupyter-widgets/controls",
            "model_module_version": "2.0.0",
            "state": {
              "description": "Peso propio del eje",
              "style": "IPY_MODEL_73020e5f27a2404ea8afda5fbc7a42d6",
              "disabled": false,
              "layout": "IPY_MODEL_3a2210c4ef54439d85f743c0ee112a5d",
              "value": true
            }
          },
          "1db167081b014193a3e72185f91d8221": {
            "model_name": "LayoutModel",
            "model_module": "@jupyter-widgets/base",
            "model_module_version": "2.0.0",
            "state": {
              "height": "auto",
              "margin": "0px 5px 0px 0px",
              "width": "20%"
            }
          },
          "deb1393ec8864012b4ecc9151adfb53a": {
            "model_name": "ButtonStyleModel",
            "model_module": "@jupyter-widgets/controls",
            "model_module_version": "2.0.0",
            "state": {
              "button_color": "black"
            }
          },
          "f032ebbfe6e44b6f9977ffee783129a5": {
            "model_name": "ButtonModel",
            "model_module": "@jupyter-widgets/controls",
            "model_module_version": "2.0.0",
            "state": {
              "description": "Calcular",
              "icon": "gear",
              "button_style": "success",
              "style": "IPY_MODEL_deb1393ec8864012b4ecc9151adfb53a",
              "layout": "IPY_MODEL_1db167081b014193a3e72185f91d8221"
            }
          },
          "ff3a32641c804fddb23f92432a0e50b8": {
            "model_name": "LayoutModel",
            "model_module": "@jupyter-widgets/base",
            "model_module_version": "2.0.0",
            "state": {
              "height": "auto",
              "margin": "0px 35px 0px 0px",
              "width": "20%"
            }
          },
          "fb4917b31610400d926c6d3f16433c60": {
            "model_name": "ButtonStyleModel",
            "model_module": "@jupyter-widgets/controls",
            "model_module_version": "2.0.0",
            "state": {
              "button_color": "black"
            }
          },
          "5c29aea4f2134404827337bfdf2f08ae": {
            "model_name": "ButtonModel",
            "model_module": "@jupyter-widgets/controls",
            "model_module_version": "2.0.0",
            "state": {
              "description": "Graficar",
              "icon": "pencil",
              "button_style": "success",
              "style": "IPY_MODEL_fb4917b31610400d926c6d3f16433c60",
              "layout": "IPY_MODEL_ff3a32641c804fddb23f92432a0e50b8"
            }
          },
          "06a302383e4b4db08e121d523ecb0f54": {
            "model_name": "LayoutModel",
            "model_module": "@jupyter-widgets/base",
            "model_module_version": "2.0.0",
            "state": {
              "height": "auto",
              "margin": "0px 0px 0px 0px",
              "width": "20%"
            }
          },
          "41ab078fb75f4e4f8d2290de3013258b": {
            "model_name": "ButtonStyleModel",
            "model_module": "@jupyter-widgets/controls",
            "model_module_version": "2.0.0",
            "state": {
              "button_color": "black"
            }
          },
          "abda690c91f345068a830296a7bbbb0e": {
            "model_name": "ButtonModel",
            "model_module": "@jupyter-widgets/controls",
            "model_module_version": "2.0.0",
            "state": {
              "description": "Enumerar",
              "icon": "eye",
              "button_style": "success",
              "style": "IPY_MODEL_41ab078fb75f4e4f8d2290de3013258b",
              "layout": "IPY_MODEL_06a302383e4b4db08e121d523ecb0f54"
            }
          },
          "201b3676dd914915848872bd48345d7c": {
            "model_name": "LayoutModel",
            "model_module": "@jupyter-widgets/base",
            "model_module_version": "2.0.0",
            "state": {
              "height": "120px",
              "width": "710px",
              "grid_template_rows": "repeat(4, 1fr)",
              "grid_template_columns": "repeat(3, 1fr)",
              "grid_template_areas": "\"widget001 widget002 widget003\"\n\"widget004 widget005 widget006\"\n\"widget007 widget008 widget009\"\n\"widget010 widget011 widget012\""
            }
          },
          "80146a30cc97419e93ca315f60e3c5d9": {
            "model_name": "GridBoxModel",
            "model_module": "@jupyter-widgets/controls",
            "model_module_version": "2.0.0",
            "state": {
              "children": [
                "IPY_MODEL_1a84594da4f7462f868d0d864ee73d41",
                "IPY_MODEL_7c3acb0f67c046a78f2c2ee8a3b7200b",
                "IPY_MODEL_db8aee2026474283b678949de35101ae",
                "IPY_MODEL_bcf0f26d3fde4e388d1d10c021598a96",
                "IPY_MODEL_3d7e13c6af8b483d9511e879f7569dfc",
                "IPY_MODEL_d2d9c28078314abfb0dd60f0622dfb7c",
                "IPY_MODEL_80aee966a327417bb3ab499b3311d9c0",
                "IPY_MODEL_4380270614b347248b5f3b29039a8310",
                "IPY_MODEL_ab471596bd1847ebb85225b080e44fca",
                "IPY_MODEL_265305ed6147476e9455e4912d2551ab",
                "IPY_MODEL_085b95c85a01466185becbdf093e7dc3",
                "IPY_MODEL_a487576bf8ed4ea5af02d47d334aa775"
              ],
              "layout": "IPY_MODEL_201b3676dd914915848872bd48345d7c"
            }
          },
          "1e4ef022aafb485ab1602fb2c100ee2d": {
            "model_name": "LayoutModel",
            "model_module": "@jupyter-widgets/base",
            "model_module_version": "2.0.0",
            "state": {
              "height": "5px",
              "width": "232px",
              "grid_area": "widget001"
            }
          },
          "0fefa3a85a8f4ba38359394990fd27cf": {
            "model_name": "TextStyleModel",
            "model_module": "@jupyter-widgets/controls",
            "model_module_version": "2.0.0",
            "state": {
              "description_width": ""
            }
          },
          "1a84594da4f7462f868d0d864ee73d41": {
            "model_name": "TextModel",
            "model_module": "@jupyter-widgets/controls",
            "model_module_version": "2.0.0",
            "state": {
              "disabled": true,
              "layout": "IPY_MODEL_1e4ef022aafb485ab1602fb2c100ee2d",
              "style": "IPY_MODEL_0fefa3a85a8f4ba38359394990fd27cf"
            }
          },
          "16539fc388184ed6af106f479ab5bdcb": {
            "model_name": "LayoutModel",
            "model_module": "@jupyter-widgets/base",
            "model_module_version": "2.0.0",
            "state": {
              "height": "5px",
              "width": "232px",
              "grid_area": "widget002"
            }
          },
          "18e7fa40fc2c4f6481546930b7cf683d": {
            "model_name": "TextStyleModel",
            "model_module": "@jupyter-widgets/controls",
            "model_module_version": "2.0.0",
            "state": {
              "description_width": ""
            }
          },
          "7c3acb0f67c046a78f2c2ee8a3b7200b": {
            "model_name": "TextModel",
            "model_module": "@jupyter-widgets/controls",
            "model_module_version": "2.0.0",
            "state": {
              "value": "Deflexiones (mm)",
              "disabled": true,
              "layout": "IPY_MODEL_16539fc388184ed6af106f479ab5bdcb",
              "style": "IPY_MODEL_18e7fa40fc2c4f6481546930b7cf683d"
            }
          },
          "646dd9639c204172a92708937a2b0d44": {
            "model_name": "LayoutModel",
            "model_module": "@jupyter-widgets/base",
            "model_module_version": "2.0.0",
            "state": {
              "height": "5px",
              "width": "232px",
              "grid_area": "widget003"
            }
          },
          "39ab64d7cc934922b91b8f75ea9f6c01": {
            "model_name": "TextStyleModel",
            "model_module": "@jupyter-widgets/controls",
            "model_module_version": "2.0.0",
            "state": {
              "description_width": ""
            }
          },
          "db8aee2026474283b678949de35101ae": {
            "model_name": "TextModel",
            "model_module": "@jupyter-widgets/controls",
            "model_module_version": "2.0.0",
            "state": {
              "value": "Velocidad Crítica (rpm)",
              "disabled": true,
              "layout": "IPY_MODEL_646dd9639c204172a92708937a2b0d44",
              "style": "IPY_MODEL_39ab64d7cc934922b91b8f75ea9f6c01"
            }
          },
          "ce8d0fc4b60b402184e1cf05e25a0d51": {
            "model_name": "LayoutModel",
            "model_module": "@jupyter-widgets/base",
            "model_module_version": "2.0.0",
            "state": {
              "height": "5px",
              "width": "232px",
              "grid_area": "widget004"
            }
          },
          "2202af48972742f591672f0079b37d6e": {
            "model_name": "TextStyleModel",
            "model_module": "@jupyter-widgets/controls",
            "model_module_version": "2.0.0",
            "state": {
              "description_width": ""
            }
          },
          "bcf0f26d3fde4e388d1d10c021598a96": {
            "model_name": "TextModel",
            "model_module": "@jupyter-widgets/controls",
            "model_module_version": "2.0.0",
            "state": {
              "value": "Bernoulli",
              "disabled": true,
              "layout": "IPY_MODEL_ce8d0fc4b60b402184e1cf05e25a0d51",
              "style": "IPY_MODEL_2202af48972742f591672f0079b37d6e"
            }
          },
          "603c89959af6417a8894976fa6cfed58": {
            "model_name": "LayoutModel",
            "model_module": "@jupyter-widgets/base",
            "model_module_version": "2.0.0",
            "state": {
              "height": "5px",
              "width": "232px",
              "grid_area": "widget005"
            }
          },
          "534feca7d2604666b6a5c416ce47c51b": {
            "model_name": "TextStyleModel",
            "model_module": "@jupyter-widgets/controls",
            "model_module_version": "2.0.0",
            "state": {
              "description_width": ""
            }
          },
          "3d7e13c6af8b483d9511e879f7569dfc": {
            "model_name": "TextModel",
            "model_module": "@jupyter-widgets/controls",
            "model_module_version": "2.0.0",
            "state": {
              "value": "0.003950133006420838",
              "disabled": true,
              "layout": "IPY_MODEL_603c89959af6417a8894976fa6cfed58",
              "style": "IPY_MODEL_534feca7d2604666b6a5c416ce47c51b"
            }
          },
          "d066ef6fbd4f44308db664fc238dff2b": {
            "model_name": "LayoutModel",
            "model_module": "@jupyter-widgets/base",
            "model_module_version": "2.0.0",
            "state": {
              "height": "5px",
              "width": "232px",
              "grid_area": "widget006"
            }
          },
          "83d174c3fb5d41d38c58cfedc79e89d2": {
            "model_name": "TextStyleModel",
            "model_module": "@jupyter-widgets/controls",
            "model_module_version": "2.0.0",
            "state": {
              "description_width": ""
            }
          },
          "d2d9c28078314abfb0dd60f0622dfb7c": {
            "model_name": "TextModel",
            "model_module": "@jupyter-widgets/controls",
            "model_module_version": "2.0.0",
            "state": {
              "value": "564.8519396234715",
              "disabled": true,
              "layout": "IPY_MODEL_d066ef6fbd4f44308db664fc238dff2b",
              "style": "IPY_MODEL_83d174c3fb5d41d38c58cfedc79e89d2"
            }
          },
          "83293ae5606b4116a550e3ffd38ec453": {
            "model_name": "LayoutModel",
            "model_module": "@jupyter-widgets/base",
            "model_module_version": "2.0.0",
            "state": {
              "height": "5px",
              "width": "232px",
              "grid_area": "widget007"
            }
          },
          "ab5128cd573148c1b957e183b48051b0": {
            "model_name": "TextStyleModel",
            "model_module": "@jupyter-widgets/controls",
            "model_module_version": "2.0.0",
            "state": {
              "description_width": ""
            }
          },
          "80aee966a327417bb3ab499b3311d9c0": {
            "model_name": "TextModel",
            "model_module": "@jupyter-widgets/controls",
            "model_module_version": "2.0.0",
            "state": {
              "value": "Timoshenko",
              "disabled": true,
              "layout": "IPY_MODEL_83293ae5606b4116a550e3ffd38ec453",
              "style": "IPY_MODEL_ab5128cd573148c1b957e183b48051b0"
            }
          },
          "77da1f269a9e4226b65dd507fb27ee14": {
            "model_name": "LayoutModel",
            "model_module": "@jupyter-widgets/base",
            "model_module_version": "2.0.0",
            "state": {
              "height": "5px",
              "width": "232px",
              "grid_area": "widget008"
            }
          },
          "d6b1206aabef447ab0d0db1591e14e64": {
            "model_name": "TextStyleModel",
            "model_module": "@jupyter-widgets/controls",
            "model_module_version": "2.0.0",
            "state": {
              "description_width": ""
            }
          },
          "4380270614b347248b5f3b29039a8310": {
            "model_name": "TextModel",
            "model_module": "@jupyter-widgets/controls",
            "model_module_version": "2.0.0",
            "state": {
              "value": "0.0039046173723967814",
              "disabled": true,
              "layout": "IPY_MODEL_77da1f269a9e4226b65dd507fb27ee14",
              "style": "IPY_MODEL_d6b1206aabef447ab0d0db1591e14e64"
            }
          },
          "283223f09f0a494292fb3e8f07d4c790": {
            "model_name": "LayoutModel",
            "model_module": "@jupyter-widgets/base",
            "model_module_version": "2.0.0",
            "state": {
              "height": "5px",
              "width": "232px",
              "grid_area": "widget009"
            }
          },
          "58703ba97f66483083dc094e418a0457": {
            "model_name": "TextStyleModel",
            "model_module": "@jupyter-widgets/controls",
            "model_module_version": "2.0.0",
            "state": {
              "description_width": ""
            }
          },
          "ab471596bd1847ebb85225b080e44fca": {
            "model_name": "TextModel",
            "model_module": "@jupyter-widgets/controls",
            "model_module_version": "2.0.0",
            "state": {
              "value": "564.0858371761799",
              "disabled": true,
              "layout": "IPY_MODEL_283223f09f0a494292fb3e8f07d4c790",
              "style": "IPY_MODEL_58703ba97f66483083dc094e418a0457"
            }
          },
          "d816d1cf0b4748b5989c17096e957faf": {
            "model_name": "LayoutModel",
            "model_module": "@jupyter-widgets/base",
            "model_module_version": "2.0.0",
            "state": {
              "height": "5px",
              "width": "232px",
              "grid_area": "widget010"
            }
          },
          "9142fab73e5a4dbbba6eb1b8c06a8e33": {
            "model_name": "TextStyleModel",
            "model_module": "@jupyter-widgets/controls",
            "model_module_version": "2.0.0",
            "state": {
              "description_width": ""
            }
          },
          "265305ed6147476e9455e4912d2551ab": {
            "model_name": "TextModel",
            "model_module": "@jupyter-widgets/controls",
            "model_module_version": "2.0.0",
            "state": {
              "value": "% de Error",
              "disabled": true,
              "layout": "IPY_MODEL_d816d1cf0b4748b5989c17096e957faf",
              "style": "IPY_MODEL_9142fab73e5a4dbbba6eb1b8c06a8e33"
            }
          },
          "250746a7eb4f47f58c8e67bf07d95442": {
            "model_name": "LayoutModel",
            "model_module": "@jupyter-widgets/base",
            "model_module_version": "2.0.0",
            "state": {
              "height": "5px",
              "width": "232px",
              "grid_area": "widget011"
            }
          },
          "df62f687e6ad4724a0c62e13520bb24c": {
            "model_name": "TextStyleModel",
            "model_module": "@jupyter-widgets/controls",
            "model_module_version": "2.0.0",
            "state": {
              "description_width": ""
            }
          },
          "085b95c85a01466185becbdf093e7dc3": {
            "model_name": "TextModel",
            "model_module": "@jupyter-widgets/controls",
            "model_module_version": "2.0.0",
            "state": {
              "value": "1.1656874331867568",
              "disabled": true,
              "layout": "IPY_MODEL_250746a7eb4f47f58c8e67bf07d95442",
              "style": "IPY_MODEL_df62f687e6ad4724a0c62e13520bb24c"
            }
          },
          "4fc1f5fea9514ac2a6d69ce809a8178b": {
            "model_name": "LayoutModel",
            "model_module": "@jupyter-widgets/base",
            "model_module_version": "2.0.0",
            "state": {
              "height": "5px",
              "width": "232px",
              "grid_area": "widget012"
            }
          },
          "de1a9ad75ca343d5b333e38eef6fd98b": {
            "model_name": "TextStyleModel",
            "model_module": "@jupyter-widgets/controls",
            "model_module_version": "2.0.0",
            "state": {
              "description_width": ""
            }
          },
          "a487576bf8ed4ea5af02d47d334aa775": {
            "model_name": "TextModel",
            "model_module": "@jupyter-widgets/controls",
            "model_module_version": "2.0.0",
            "state": {
              "value": "0.13581309736948982",
              "disabled": true,
              "layout": "IPY_MODEL_4fc1f5fea9514ac2a6d69ce809a8178b",
              "style": "IPY_MODEL_de1a9ad75ca343d5b333e38eef6fd98b"
            }
          },
          "2fb2fc610da34cce863e6da7bdc83979": {
            "model_name": "LinearScaleModel",
            "model_module": "bqplot",
            "model_module_version": "^0.5",
            "state": {
              "_model_module_version": "^0.5",
              "_view_module_version": "^0.5",
              "stabilized": false
            }
          },
          "fcd623f36959495bb7b1ffc268c948c5": {
            "model_name": "LinearScaleModel",
            "model_module": "bqplot",
            "model_module_version": "^0.5",
            "state": {
              "_model_module_version": "^0.5",
              "_view_module_version": "^0.5",
              "stabilized": false
            }
          },
          "e3576eb9e91b4b31ac35a24a774824a3": {
            "model_name": "LinesModel",
            "model_module": "bqplot",
            "model_module_version": "^0.5",
            "state": {
              "_model_module_version": "^0.5",
              "_view_module_version": "^0.5",
              "scales": {
                "x": "IPY_MODEL_2fb2fc610da34cce863e6da7bdc83979",
                "y": "IPY_MODEL_fcd623f36959495bb7b1ffc268c948c5"
              },
              "labels": [
                "C1",
                "C2"
              ],
              "x": [
                {
                  "dtype": "float64",
                  "shape": [
                    5
                  ],
                  "type": null
                },
                {
                  "dtype": "float64",
                  "shape": [
                    2
                  ],
                  "type": null
                }
              ],
              "y": [
                {
                  "dtype": "float64",
                  "shape": [
                    5
                  ],
                  "type": null
                },
                {
                  "dtype": "float64",
                  "shape": [
                    2
                  ],
                  "type": null
                }
              ],
              "colors": [
                "black"
              ],
              "fill_colors": [],
              "stroke_width": 1.5,
              "opacities": [
                1
              ]
            },
            "buffers": [
              {
                "data": "AAAAAABAf8AAAAAAAEB/QAAAAAAAQH9AAAAAAABAf8AAAAAAAEB/wA==",
                "path": [
                  "x",
                  0,
                  "value"
                ],
                "encoding": "base64"
              },
              {
                "data": "AAAAAABATEAAAAAAAEBMQA==",
                "path": [
                  "x",
                  1,
                  "value"
                ],
                "encoding": "base64"
              },
              {
                "data": "AAAAAAAAOcAAAAAAAAA5wAAAAAAAADlAAAAAAAAAOUAAAAAAAAA5wA==",
                "path": [
                  "y",
                  0,
                  "value"
                ],
                "encoding": "base64"
              },
              {
                "data": "AAAAAAAAOUAAAAAAAABJQA==",
                "path": [
                  "y",
                  1,
                  "value"
                ],
                "encoding": "base64"
              }
            ]
          },
          "29aa1576b9774306948ce7e5f4dd2c4f": {
            "model_name": "LinesModel",
            "model_module": "bqplot",
            "model_module_version": "^0.5",
            "state": {
              "_model_module_version": "^0.5",
              "_view_module_version": "^0.5",
              "scales": {
                "x": "IPY_MODEL_2fb2fc610da34cce863e6da7bdc83979",
                "y": "IPY_MODEL_fcd623f36959495bb7b1ffc268c948c5"
              },
              "labels": [
                "C1"
              ],
              "x": {
                "dtype": "float64",
                "shape": [
                  5
                ],
                "type": null
              },
              "y": {
                "dtype": "float64",
                "shape": [
                  5
                ],
                "type": null
              },
              "colors": [
                "black"
              ],
              "fill_colors": [],
              "stroke_width": 1.5,
              "line_style": "dashed",
              "opacities": [
                1
              ]
            },
            "buffers": [
              {
                "data": "AAAAAABAf8AAAAAAAEB/QAAAAAAAQH9AAAAAAABAf8AAAAAAAEB/wA==",
                "path": [
                  "x",
                  "value"
                ],
                "encoding": "base64"
              },
              {
                "data": "AAAAAAAAKcAAAAAAAAApwAAAAAAAAClAAAAAAAAAKUAAAAAAAAApwA==",
                "path": [
                  "y",
                  "value"
                ],
                "encoding": "base64"
              }
            ]
          },
          "b6ef9cd4a4424362afff2c1393fe84f4": {
            "model_name": "LinearScaleModel",
            "model_module": "bqplot",
            "model_module_version": "^0.5",
            "state": {
              "_model_module_version": "^0.5",
              "_view_module_version": "^0.5",
              "stabilized": false
            }
          },
          "fb3523198d8443e2932402c536b31517": {
            "model_name": "LinearScaleModel",
            "model_module": "bqplot",
            "model_module_version": "^0.5",
            "state": {
              "_model_module_version": "^0.5",
              "_view_module_version": "^0.5",
              "stabilized": false
            }
          },
          "ab233d46bcfc420e946116b9d873f4a3": {
            "model_name": "LinesModel",
            "model_module": "bqplot",
            "model_module_version": "^0.5",
            "state": {
              "_model_module_version": "^0.5",
              "_view_module_version": "^0.5",
              "scales": {
                "x": "IPY_MODEL_b6ef9cd4a4424362afff2c1393fe84f4",
                "y": "IPY_MODEL_fb3523198d8443e2932402c536b31517"
              },
              "labels": [
                "C1"
              ],
              "tooltip": "IPY_MODEL_2a1d8186747e4dc0897dd8a23e82ffbe",
              "x": {
                "dtype": "float64",
                "shape": [
                  102
                ],
                "type": null
              },
              "y": {
                "dtype": "float64",
                "shape": [
                  102
                ],
                "type": null
              },
              "colors": [
                "black"
              ],
              "fill_colors": [],
              "close_path": true,
              "fill": "inside",
              "marker": "circle",
              "marker_size": 50,
              "opacities": [
                1
              ],
              "fill_opacities": [
                0.3
              ]
            },
            "buffers": [
              {
                "data": "AAAAAAAAAAAAAAAAAAAAAG7btm3btiZAbtu2bdu2NkCSJEmSJAlBQG7btm3btkZASZIkSZJkTECSJEmSJAlRQAAAAAAA4FNAbtu2bdu2VkDctm3bto1ZQEmSJEmSZFxAt23btm07X0CSJEmSJAlhQEmSJEmSdGJAAAAAAADgY0C3bdu2bUtlQG7btm3btmZAJEmSJEkiaEDctm3bto1pQJMkSZIk+WpASZIkSZJkbEAAAAAAANBtQLdt27ZtO29At23btm1TcECSJEmSJAlxQG7btm3bvnFASZIkSZJ0ckAlSZIkSSpzQAAAAAAA4HNA27Zt27aVdEC3bdu2bUt1QJMkSZIkAXZAbtu2bdu2dkBJkiRJkmx3QCRJkiRJInhAAAAAAADYeEDctm3bto15QLdt27ZtQ3pAkyRJkiT5ekBu27Zt2657QEmSJEmSZHxAJEmSJEkafUAAAAAAANB9QNy2bdu2hX5At23btm07f0CTJEmSJPF/QLdt27ZtU4BAJUmSJEmugECSJEmSJAmBQAAAAAAAZIFAAAAAAABkgUDrQ2N9aKyBQNaHxvrQ9IFAwcspeDk9gkCtD431oYWCQJdT8HIKzoJAg5dT8HIWg0Bu27Zt216DQFgfGutDp4NARGN9aKzvg0Avp+DlFDiEQBrrQ2N9gIRABS+n4OXIhEDxcgpeThGFQNy2bdu2WYVAxvrQWB+ihUCyPjTWh+qFQJyCl1PwMoZAiMb60Fh7hkBzCl5OwcOGQF9OwcspDIdASZIkSZJUh0A01ofG+pyHQB8a60Nj5YdACl5OwcstiED2obE+NHaIQOHlFLycvohAzCl4OQUHiUC3bdu2bU+JQKGxPjTWl4lAjfWhsT7giUB4OQUvpyiKQGR9aKwPcYpATsHLKXi5ikA6BS+n4AGLQCRJkiRJSotAD431obGSi0D70FgfGtuLQOYUvJyCI4xA0VgfGutrjEC8nIKXU7SMQKfg5RS8/IxAkiRJkiRFjUB9aKwPjY2NQGmsD4311Y1AU/ByCl4ejkA/NNaHxmaOQCl4OQUvr45AFbycgpf3jkAAAAAAAECPQAAAAAAAQI9A",
                "path": [
                  "x",
                  "value"
                ],
                "encoding": "base64"
              },
              {
                "data": "AAAAAAAAAACqqZz9xYy3QF4nikZ8i7dAEaV3jzKKt0DFImXY6Ii3QHigUiGfh7dALB5AalWGt0Dfmy2zC4W3QJMZG/zBg7dARpcIRXiCt0D6FPaNLoG3QK2S49bkf7dAYRDRH5t+t0AUjr5oUX23QMgLrLEHfLdAe4mZ+r16t0AvB4dDdHm3QOOEdIwqeLdAlgJi1eB2t0BKgE8el3W3QP39PGdNdLdAsXsqsANzt0Bk+Rf5uXG3QBh3BUJwcLdAy/TyiiZvt0B/cuDT3G23QDLwzRyTbLdA5m27ZUlrt0CZ66iu/2m3QE1plve1aLdAAOeDQGxnt0C0ZHGJIma3QGjiXtLYZLdAG2BMG49jt0DP3TlkRWK3QIJbJ637YLdANtkU9rFft0DpVgI/aF63QJ3U74ceXbdAUFLd0NRbt0AE0MoZi1q3QLdNuGJBWbdAa8ulq/dXt0AeSZP0rVa3QNLGgD1kVbdAhURuhhpUt0A5wlvP0FK3QO0/SRiHUbdAoL02YT1Qt0BUOySq8063QAe5EfOpTbdA2cidwUqA5cDKuBeaa4DlwLuokXKMgOXArJgLS62A5cCdiIUjzoDlwI54//vugOXAf2h51A+B5cBwWPOsMIHlwGJIbYVRgeXAUzjnXXKB5cBEKGE2k4HlwDUY2w60geXAJghV59SB5cAX+M6/9YHlwAjoSJgWguXA+dfCcDeC5cDqxzxJWILlwNu3tiF5guXAzKcw+pmC5cC9l6rSuoLlwK6HJKvbguXAn3eeg/yC5cCQZxhcHYPlwIFXkjQ+g+XAckcMDV+D5cBjN4blf4PlwFQnAL6gg+XARRd6lsGD5cA2B/Ru4oPlwCf3bUcDhOXAGOfnHySE5cAJ12H4RITlwPrG29BlhOXA67ZVqYaE5cDcps+Bp4TlwM2WSVrIhOXAvobDMumE5cCvdj0LCoXlwKBmt+MqheXAkVYxvEuF5cCCRquUbIXlwHM2JW2NheXAZCafRa6F5cBVFhkez4XlwEYGk/bvheXAN/YMzxCG5cAo5oanMYblwBnWAIBShuXACsZ6WHOG5cD7tfQwlIblwAAAAAAAAAAA",
                "path": [
                  "y",
                  "value"
                ],
                "encoding": "base64"
              }
            ]
          },
          "45c3313d902441e8b44a9ad08c55c429": {
            "model_name": "LinearScaleModel",
            "model_module": "bqplot",
            "model_module_version": "^0.5",
            "state": {
              "_model_module_version": "^0.5",
              "_view_module_version": "^0.5",
              "stabilized": false
            }
          },
          "1c4b6c748bea4ab39b648fb7ed75e917": {
            "model_name": "LinearScaleModel",
            "model_module": "bqplot",
            "model_module_version": "^0.5",
            "state": {
              "_model_module_version": "^0.5",
              "_view_module_version": "^0.5",
              "stabilized": false
            }
          },
          "c6411525bd804f39a924f9f99a0980fc": {
            "model_name": "LinesModel",
            "model_module": "bqplot",
            "model_module_version": "^0.5",
            "state": {
              "_model_module_version": "^0.5",
              "_view_module_version": "^0.5",
              "scales": {
                "x": "IPY_MODEL_45c3313d902441e8b44a9ad08c55c429",
                "y": "IPY_MODEL_1c4b6c748bea4ab39b648fb7ed75e917"
              },
              "labels": [
                "C1"
              ],
              "x": {
                "dtype": "float64",
                "shape": [
                  15
                ],
                "type": null
              },
              "y": {
                "dtype": "float64",
                "shape": [
                  15
                ],
                "type": null
              },
              "colors": [
                "black"
              ],
              "fill_colors": [],
              "close_path": true,
              "fill": "inside",
              "opacities": [
                1
              ],
              "fill_opacities": [
                0.3
              ]
            },
            "buffers": [
              {
                "data": "AAAAAAAAAAAAAAAAAAAAAAAAAAAAMFdAAAAAAAAwZ0AAAAAAAGRxQAAAAAAAMHdAAAAAAAD8fEAAAAAAAGSBQFVVVVVVs4NAq6qqqqoChkAAAAAAAFKIQFZVVVVVoYpAq6qqqqrwjEAAAAAAAECPQAAAAAAAQI9A",
                "path": [
                  "x",
                  "value"
                ],
                "encoding": "base64"
              },
              {
                "data": "AAAAAAAAAACgXSlW84K3QEC5hiQ6erdAABTk8oBxt0DAb0HBx2i3QMDLno8OYLdAQCf8XVVXt0DIz3R6LIDlwIAkqaBDgeXAAHndxlqC5cBwzhHtcYPlwAAjRhOJhOXAQHd6OaCF5cBAd3o5oIXlwAAAAAAAAAAA",
                "path": [
                  "y",
                  "value"
                ],
                "encoding": "base64"
              }
            ]
          },
          "50528dfd165b4a21a79c8aea9c8974b8": {
            "model_name": "ScatterModel",
            "model_module": "bqplot",
            "model_module_version": "^0.5",
            "state": {
              "_model_module_version": "^0.5",
              "_view_module_version": "^0.5",
              "scales": {
                "x": "IPY_MODEL_2fb2fc610da34cce863e6da7bdc83979",
                "y": "IPY_MODEL_fcd623f36959495bb7b1ffc268c948c5"
              },
              "scales_metadata": {
                "x": {
                  "orientation": "horizontal",
                  "dimension": "x"
                },
                "y": {
                  "orientation": "vertical",
                  "dimension": "y"
                },
                "color": {
                  "dimension": "color"
                },
                "size": {
                  "dimension": "size"
                },
                "opacity": {
                  "dimension": "opacity"
                },
                "rotation": {
                  "dimension": "rotation"
                },
                "skew": {
                  "dimension": "skew"
                }
              },
              "x": {
                "dtype": "float64",
                "shape": [
                  1
                ],
                "type": null
              },
              "y": {
                "dtype": "float64",
                "shape": [
                  1
                ],
                "type": null
              },
              "label_display_horizontal_offset": 0,
              "label_display_vertical_offset": 0,
              "colors": [
                "black"
              ],
              "opacities": {
                "dtype": "int32",
                "shape": [
                  1
                ],
                "type": null
              },
              "marker": "square",
              "default_size": 250
            },
            "buffers": [
              {
                "data": "AAAAAABAf8A=",
                "path": [
                  "x",
                  "value"
                ],
                "encoding": "base64"
              },
              {
                "data": "AAAAAAAAOcA=",
                "path": [
                  "y",
                  "value"
                ],
                "encoding": "base64"
              },
              {
                "data": "AQAAAA==",
                "path": [
                  "opacities",
                  "value"
                ],
                "encoding": "base64"
              }
            ]
          },
          "6bf14e5f2f5b47de87f788841de8b032": {
            "model_name": "ScatterModel",
            "model_module": "bqplot",
            "model_module_version": "^0.5",
            "state": {
              "_model_module_version": "^0.5",
              "_view_module_version": "^0.5",
              "scales": {
                "x": "IPY_MODEL_2fb2fc610da34cce863e6da7bdc83979",
                "y": "IPY_MODEL_fcd623f36959495bb7b1ffc268c948c5"
              },
              "scales_metadata": {
                "x": {
                  "orientation": "horizontal",
                  "dimension": "x"
                },
                "y": {
                  "orientation": "vertical",
                  "dimension": "y"
                },
                "color": {
                  "dimension": "color"
                },
                "size": {
                  "dimension": "size"
                },
                "opacity": {
                  "dimension": "opacity"
                },
                "rotation": {
                  "dimension": "rotation"
                },
                "skew": {
                  "dimension": "skew"
                }
              },
              "x": {
                "dtype": "float64",
                "shape": [
                  1
                ],
                "type": null
              },
              "y": {
                "dtype": "float64",
                "shape": [
                  1
                ],
                "type": null
              },
              "label_display_horizontal_offset": 0,
              "label_display_vertical_offset": 0,
              "colors": [
                "black"
              ],
              "opacities": {
                "dtype": "int32",
                "shape": [
                  1
                ],
                "type": null
              },
              "marker": "square",
              "default_size": 250
            },
            "buffers": [
              {
                "data": "AAAAAABAf0A=",
                "path": [
                  "x",
                  "value"
                ],
                "encoding": "base64"
              },
              {
                "data": "AAAAAAAAOcA=",
                "path": [
                  "y",
                  "value"
                ],
                "encoding": "base64"
              },
              {
                "data": "AQAAAA==",
                "path": [
                  "opacities",
                  "value"
                ],
                "encoding": "base64"
              }
            ]
          },
          "8ee291aff1d14f8fbffedc941e8e40cb": {
            "model_name": "ScatterModel",
            "model_module": "bqplot",
            "model_module_version": "^0.5",
            "state": {
              "_model_module_version": "^0.5",
              "_view_module_version": "^0.5",
              "scales": {
                "x": "IPY_MODEL_2fb2fc610da34cce863e6da7bdc83979",
                "y": "IPY_MODEL_fcd623f36959495bb7b1ffc268c948c5"
              },
              "scales_metadata": {
                "x": {
                  "orientation": "horizontal",
                  "dimension": "x"
                },
                "y": {
                  "orientation": "vertical",
                  "dimension": "y"
                },
                "color": {
                  "dimension": "color"
                },
                "size": {
                  "dimension": "size"
                },
                "opacity": {
                  "dimension": "opacity"
                },
                "rotation": {
                  "dimension": "rotation"
                },
                "skew": {
                  "dimension": "skew"
                }
              },
              "x": {
                "dtype": "float64",
                "shape": [
                  1
                ],
                "type": null
              },
              "y": {
                "dtype": "float64",
                "shape": [
                  1
                ],
                "type": null
              },
              "label_display_horizontal_offset": 0,
              "label_display_vertical_offset": 0,
              "colors": [
                "black"
              ],
              "opacities": {
                "dtype": "int32",
                "shape": [
                  1
                ],
                "type": null
              },
              "marker": "triangle-down",
              "default_size": 100
            },
            "buffers": [
              {
                "data": "AAAAAABATEA=",
                "path": [
                  "x",
                  "value"
                ],
                "encoding": "base64"
              },
              {
                "data": "AAAAAAAAOUA=",
                "path": [
                  "y",
                  "value"
                ],
                "encoding": "base64"
              },
              {
                "data": "AQAAAA==",
                "path": [
                  "opacities",
                  "value"
                ],
                "encoding": "base64"
              }
            ]
          },
          "52c56c4836fe4a2f91d82e8b0538d5c9": {
            "model_name": "ScatterModel",
            "model_module": "bqplot",
            "model_module_version": "^0.5",
            "state": {
              "_model_module_version": "^0.5",
              "_view_module_version": "^0.5",
              "scales": {
                "x": "IPY_MODEL_45c3313d902441e8b44a9ad08c55c429",
                "y": "IPY_MODEL_1c4b6c748bea4ab39b648fb7ed75e917"
              },
              "scales_metadata": {
                "x": {
                  "orientation": "horizontal",
                  "dimension": "x"
                },
                "y": {
                  "orientation": "vertical",
                  "dimension": "y"
                },
                "color": {
                  "dimension": "color"
                },
                "size": {
                  "dimension": "size"
                },
                "opacity": {
                  "dimension": "opacity"
                },
                "rotation": {
                  "dimension": "rotation"
                },
                "skew": {
                  "dimension": "skew"
                }
              },
              "tooltip": "IPY_MODEL_9af726033663443dbe0f54b63297a6df",
              "x": {
                "dtype": "float64",
                "shape": [
                  13
                ],
                "type": null
              },
              "y": {
                "dtype": "float64",
                "shape": [
                  13
                ],
                "type": null
              },
              "label_display_horizontal_offset": 0,
              "label_display_vertical_offset": 0,
              "unhovered_style": {
                "opacity": 0.5
              },
              "colors": [
                "black"
              ],
              "opacities": {
                "dtype": "int32",
                "shape": [
                  1
                ],
                "type": null
              },
              "default_size": 50,
              "names": {
                "dtype": "int32",
                "shape": [
                  13
                ],
                "type": null
              }
            },
            "buffers": [
              {
                "data": "AAAAAAAAAAAAAAAAADBXQAAAAAAAMGdAAAAAAABkcUAAAAAAADB3QAAAAAAA/HxAAAAAAABkgUBVVVVVVbODQKuqqqqqAoZAAAAAAABSiEBWVVVVVaGKQKuqqqqq8IxAAAAAAABAj0A=",
                "path": [
                  "x",
                  "value"
                ],
                "encoding": "base64"
              },
              {
                "data": "oF0pVvOCt0BAuYYkOnq3QAAU5PKAcbdAwG9Bwcdot0DAy56PDmC3QEAn/F1VV7dAyM90eiyA5cCAJKmgQ4HlwAB53cZaguXAcM4R7XGD5cAAI0YTiYTlwEB3ejmgheXAQHd6OaCF5cA=",
                "path": [
                  "y",
                  "value"
                ],
                "encoding": "base64"
              },
              {
                "data": "AQAAAA==",
                "path": [
                  "opacities",
                  "value"
                ],
                "encoding": "base64"
              },
              {
                "data": "AQAAAAIAAAADAAAABAAAAAUAAAAGAAAABwAAAAgAAAAJAAAACgAAAAsAAAAMAAAADQAAAA==",
                "path": [
                  "names",
                  "value"
                ],
                "encoding": "base64"
              }
            ]
          },
          "9cf1c5ba827c417bb1b1314c2f6c12a6": {
            "model_name": "AxisModel",
            "model_module": "bqplot",
            "model_module_version": "^0.5",
            "state": {
              "_model_module_version": "^0.5",
              "_view_module_version": "^0.5",
              "side": "bottom",
              "label": "Longitud (mm)",
              "grid_lines": "none",
              "tick_format": "0.0f",
              "scale": "IPY_MODEL_2fb2fc610da34cce863e6da7bdc83979",
              "label_color": "black",
              "color": "black",
              "label_offset": "-2em",
              "tick_style": {
                "stroke": "black"
              }
            }
          },
          "3803c371d64d400e9b30ea75e7802daf": {
            "model_name": "AxisModel",
            "model_module": "bqplot",
            "model_module_version": "^0.5",
            "state": {
              "_model_module_version": "^0.5",
              "_view_module_version": "^0.5",
              "orientation": "vertical",
              "side": "left",
              "label": "Diametro (mm)",
              "grid_lines": "none",
              "tick_format": "0.0f",
              "scale": "IPY_MODEL_fcd623f36959495bb7b1ffc268c948c5",
              "label_color": "black",
              "color": "black",
              "label_offset": "-2em",
              "tick_style": {
                "stroke": "black"
              }
            }
          },
          "f1c18da908254fcc93885aecb2e41bce": {
            "model_name": "LayoutModel",
            "model_module": "@jupyter-widgets/base",
            "model_module_version": "2.0.0",
            "state": {
              "height": "65%",
              "width": "auto"
            }
          },
          "56daf9fa8a644ecca10cdd4d467639ed": {
            "model_name": "LinearScaleModel",
            "model_module": "bqplot",
            "model_module_version": "^0.5",
            "state": {
              "_model_module_version": "^0.5",
              "_view_module_version": "^0.5",
              "allow_padding": false,
              "min": 0,
              "max": 1,
              "stabilized": false
            }
          },
          "852f1034da034cdc84a6c1987ff75a1c": {
            "model_name": "LinearScaleModel",
            "model_module": "bqplot",
            "model_module_version": "^0.5",
            "state": {
              "_model_module_version": "^0.5",
              "_view_module_version": "^0.5",
              "allow_padding": false,
              "min": 0,
              "max": 1,
              "stabilized": false
            }
          },
          "db1295893bf543ed9d1333fab2a07856": {
            "model_name": "FigureModel",
            "model_module": "bqplot",
            "model_module_version": "^0.5",
            "state": {
              "_model_module_version": "^0.5",
              "_view_module_version": "^0.5",
              "title": "Esquema del eje a analizar",
              "axes": [
                "IPY_MODEL_9cf1c5ba827c417bb1b1314c2f6c12a6",
                "IPY_MODEL_3803c371d64d400e9b30ea75e7802daf"
              ],
              "marks": [
                "IPY_MODEL_e3576eb9e91b4b31ac35a24a774824a3",
                "IPY_MODEL_29aa1576b9774306948ce7e5f4dd2c4f",
                "IPY_MODEL_50528dfd165b4a21a79c8aea9c8974b8",
                "IPY_MODEL_6bf14e5f2f5b47de87f788841de8b032",
                "IPY_MODEL_8ee291aff1d14f8fbffedc941e8e40cb"
              ],
              "scale_x": "IPY_MODEL_56daf9fa8a644ecca10cdd4d467639ed",
              "scale_y": "IPY_MODEL_852f1034da034cdc84a6c1987ff75a1c",
              "title_style": {
                "font-size": "15px",
                "fill": "black"
              },
              "fig_margin": {
                "left": 50,
                "top": 20,
                "bottom": 30,
                "right": 30
              },
              "layout": "IPY_MODEL_f1c18da908254fcc93885aecb2e41bce"
            }
          },
          "d9c0729545494bfab5aaccb936964b3d": {
            "model_name": "AxisModel",
            "model_module": "bqplot",
            "model_module_version": "^0.5",
            "state": {
              "_model_module_version": "^0.5",
              "_view_module_version": "^0.5",
              "side": "bottom",
              "label": "Longitud (mm)",
              "grid_lines": "dashed",
              "tick_format": "0.0f",
              "scale": "IPY_MODEL_b6ef9cd4a4424362afff2c1393fe84f4",
              "label_color": "black",
              "color": "black",
              "label_offset": "-1em",
              "tick_style": {
                "stroke": "black"
              }
            }
          },
          "dc46ce3a304d4e8ba54eb9e8448cfe7c": {
            "model_name": "AxisModel",
            "model_module": "bqplot",
            "model_module_version": "^0.5",
            "state": {
              "_model_module_version": "^0.5",
              "_view_module_version": "^0.5",
              "orientation": "vertical",
              "side": "left",
              "label": "Cortantes (N)",
              "grid_lines": "dashed",
              "tick_format": "0.0f",
              "scale": "IPY_MODEL_fb3523198d8443e2932402c536b31517",
              "label_color": "black",
              "color": "black",
              "label_offset": "-1em",
              "tick_style": {
                "stroke": "black"
              }
            }
          },
          "74f83c7967c54a24be6f0f6e3659c591": {
            "model_name": "LayoutModel",
            "model_module": "@jupyter-widgets/base",
            "model_module_version": "2.0.0",
            "state": {
              "height": "50%",
              "width": "auto"
            }
          },
          "484c790b79994b2baeb0fbd4b6683584": {
            "model_name": "LinearScaleModel",
            "model_module": "bqplot",
            "model_module_version": "^0.5",
            "state": {
              "_model_module_version": "^0.5",
              "_view_module_version": "^0.5",
              "allow_padding": false,
              "min": 0,
              "max": 1,
              "stabilized": false
            }
          },
          "882f0350e05d4c96ae2bae145c13a786": {
            "model_name": "LinearScaleModel",
            "model_module": "bqplot",
            "model_module_version": "^0.5",
            "state": {
              "_model_module_version": "^0.5",
              "_view_module_version": "^0.5",
              "allow_padding": false,
              "min": 0,
              "max": 1,
              "stabilized": false
            }
          },
          "7481c8516c364aa8832e9d9663e2573e": {
            "model_name": "FigureModel",
            "model_module": "bqplot",
            "model_module_version": "^0.5",
            "state": {
              "_model_module_version": "^0.5",
              "_view_module_version": "^0.5",
              "title": "Grafica simbolica",
              "axes": [
                "IPY_MODEL_d9c0729545494bfab5aaccb936964b3d",
                "IPY_MODEL_dc46ce3a304d4e8ba54eb9e8448cfe7c"
              ],
              "marks": [
                "IPY_MODEL_ab233d46bcfc420e946116b9d873f4a3"
              ],
              "scale_x": "IPY_MODEL_484c790b79994b2baeb0fbd4b6683584",
              "scale_y": "IPY_MODEL_882f0350e05d4c96ae2bae145c13a786",
              "title_style": {
                "font-size": "15px",
                "fill": "black"
              },
              "fig_margin": {
                "left": 50,
                "top": 20,
                "bottom": 30,
                "right": 30
              },
              "layout": "IPY_MODEL_74f83c7967c54a24be6f0f6e3659c591"
            }
          },
          "b0484e67debc488c8f13c5424a819c41": {
            "model_name": "AxisModel",
            "model_module": "bqplot",
            "model_module_version": "^0.5",
            "state": {
              "_model_module_version": "^0.5",
              "_view_module_version": "^0.5",
              "side": "bottom",
              "label": "Longitud (mm)",
              "grid_lines": "dashed",
              "tick_format": "0.0f",
              "scale": "IPY_MODEL_45c3313d902441e8b44a9ad08c55c429",
              "label_color": "black",
              "color": "black",
              "label_offset": "-1em",
              "tick_style": {
                "stroke": "black"
              }
            }
          },
          "3c80ca17fc844013a96a4d9770a6500a": {
            "model_name": "AxisModel",
            "model_module": "bqplot",
            "model_module_version": "^0.5",
            "state": {
              "_model_module_version": "^0.5",
              "_view_module_version": "^0.5",
              "orientation": "vertical",
              "side": "left",
              "label": "Cortantes (N)",
              "grid_lines": "dashed",
              "tick_format": "0.0f",
              "scale": "IPY_MODEL_1c4b6c748bea4ab39b648fb7ed75e917",
              "label_color": "black",
              "color": "black",
              "label_offset": "-1em",
              "tick_style": {
                "stroke": "black"
              }
            }
          },
          "aad3ab84a76f46d89f8f5a7f41467550": {
            "model_name": "LayoutModel",
            "model_module": "@jupyter-widgets/base",
            "model_module_version": "2.0.0",
            "state": {
              "height": "50%",
              "width": "auto"
            }
          },
          "8783c88d38cb4aae88e25881cdb77f1e": {
            "model_name": "LinearScaleModel",
            "model_module": "bqplot",
            "model_module_version": "^0.5",
            "state": {
              "_model_module_version": "^0.5",
              "_view_module_version": "^0.5",
              "allow_padding": false,
              "min": 0,
              "max": 1,
              "stabilized": false
            }
          },
          "2cebb8519db14ddf8f2ef4a5e9bca371": {
            "model_name": "LinearScaleModel",
            "model_module": "bqplot",
            "model_module_version": "^0.5",
            "state": {
              "_model_module_version": "^0.5",
              "_view_module_version": "^0.5",
              "allow_padding": false,
              "min": 0,
              "max": 1,
              "stabilized": false
            }
          },
          "14c70d6289b54516a0a1c2650e8f18de": {
            "model_name": "FigureModel",
            "model_module": "bqplot",
            "model_module_version": "^0.5",
            "state": {
              "_model_module_version": "^0.5",
              "_view_module_version": "^0.5",
              "title": "Grafica numerica",
              "axes": [
                "IPY_MODEL_b0484e67debc488c8f13c5424a819c41",
                "IPY_MODEL_3c80ca17fc844013a96a4d9770a6500a"
              ],
              "marks": [
                "IPY_MODEL_c6411525bd804f39a924f9f99a0980fc",
                "IPY_MODEL_52c56c4836fe4a2f91d82e8b0538d5c9"
              ],
              "scale_x": "IPY_MODEL_8783c88d38cb4aae88e25881cdb77f1e",
              "scale_y": "IPY_MODEL_2cebb8519db14ddf8f2ef4a5e9bca371",
              "title_style": {
                "font-size": "15px",
                "fill": "black"
              },
              "fig_margin": {
                "left": 50,
                "top": 20,
                "bottom": 30,
                "right": 30
              },
              "layout": "IPY_MODEL_aad3ab84a76f46d89f8f5a7f41467550"
            }
          },
          "b93edeee078148309efd9d98ca00d35f": {
            "model_name": "LayoutModel",
            "model_module": "@jupyter-widgets/base",
            "model_module_version": "2.0.0",
            "state": {
              "border_top": "0px",
              "border_right": "0px",
              "border_bottom": "0px",
              "border_left": "0px",
              "height": "auto",
              "justify_content": "space-between",
              "margin": "0px",
              "padding": "0px",
              "width": "auto"
            }
          },
          "4825d774a6ce478db0a1968537a9bdd5": {
            "model_name": "HBoxModel",
            "model_module": "@jupyter-widgets/controls",
            "model_module_version": "2.0.0",
            "state": {
              "children": [
                "IPY_MODEL_f032ebbfe6e44b6f9977ffee783129a5",
                "IPY_MODEL_efa860160aa84beb86ff6977157e6ea0",
                "IPY_MODEL_5c29aea4f2134404827337bfdf2f08ae",
                "IPY_MODEL_abda690c91f345068a830296a7bbbb0e"
              ],
              "layout": "IPY_MODEL_b93edeee078148309efd9d98ca00d35f"
            }
          },
          "d54beacbb287434a98783a0ed185f0cf": {
            "model_name": "LayoutModel",
            "model_module": "@jupyter-widgets/base",
            "model_module_version": "2.0.0",
            "state": {
              "border_top": "0px",
              "border_right": "0px",
              "border_bottom": "0px",
              "border_left": "0px",
              "height": "auto",
              "justify_content": "space-around",
              "margin": "0px",
              "padding": "0px",
              "width": "75%"
            }
          },
          "20646585d6194512a8980374e3d5ab42": {
            "model_name": "VBoxModel",
            "model_module": "@jupyter-widgets/controls",
            "model_module_version": "2.0.0",
            "state": {
              "children": [
                "IPY_MODEL_4825d774a6ce478db0a1968537a9bdd5",
                "IPY_MODEL_db1295893bf543ed9d1333fab2a07856",
                "IPY_MODEL_80146a30cc97419e93ca315f60e3c5d9"
              ],
              "layout": "IPY_MODEL_d54beacbb287434a98783a0ed185f0cf"
            }
          },
          "cc3abc3c320c4a74a7ec79e81d95324b": {
            "model_name": "LayoutModel",
            "model_module": "@jupyter-widgets/base",
            "model_module_version": "2.0.0",
            "state": {
              "border_top": "0px",
              "border_right": "0px",
              "border_bottom": "0px",
              "border_left": "0px",
              "height": "auto",
              "justify_content": "flex-start",
              "margin": "0px",
              "padding": "0px",
              "width": "35%"
            }
          },
          "419c8e522e6949339ddb1081c06b847c": {
            "model_name": "VBoxModel",
            "model_module": "@jupyter-widgets/controls",
            "model_module_version": "2.0.0",
            "state": {
              "children": [
                "IPY_MODEL_ab359e55f9d04d03a2de78ea6a6507c8",
                "IPY_MODEL_ef1901e0bd174dab8dc5565c49ba2ac9",
                "IPY_MODEL_e6f592bd9ad44ec19cc19aadf40616a6",
                "IPY_MODEL_5516002c89a444058c6437453c4e5b83",
                "IPY_MODEL_55f5ab65e965420fbe6e2fbef7bd67bb",
                "IPY_MODEL_7de721df5fee4fb98233c8aacfcf7f6e",
                "IPY_MODEL_5480b0a90cfe4056b63c73bc11b7662c",
                "IPY_MODEL_4e6ae5fdf7d64d2ea8da91934d1dee32",
                "IPY_MODEL_7e63e3eeb77b417c8032cbb70e98b067",
                "IPY_MODEL_3adeec75ee8245609b19761577058c23",
                "IPY_MODEL_16b8d7f9c4444d3fb2e5aa4775226fa4",
                "IPY_MODEL_0d450bff50dd40289483669f2a291dd4"
              ],
              "layout": "IPY_MODEL_cc3abc3c320c4a74a7ec79e81d95324b"
            }
          },
          "8ff1974746c242a4974deda6281cad7a": {
            "model_name": "LayoutModel",
            "model_module": "@jupyter-widgets/base",
            "model_module_version": "2.0.0",
            "state": {}
          },
          "1a247c7053b8437489d493572d7ba767": {
            "model_name": "HBoxModel",
            "model_module": "@jupyter-widgets/controls",
            "model_module_version": "2.0.0",
            "state": {
              "children": [
                "IPY_MODEL_419c8e522e6949339ddb1081c06b847c",
                "IPY_MODEL_20646585d6194512a8980374e3d5ab42"
              ],
              "layout": "IPY_MODEL_8ff1974746c242a4974deda6281cad7a"
            }
          },
          "da0e7c05277549ca83c22453aae433c8": {
            "model_name": "LayoutModel",
            "model_module": "@jupyter-widgets/base",
            "model_module_version": "2.0.0",
            "state": {
              "margin": "0px 0px 0px 0px",
              "width": "15%"
            }
          },
          "bf8d74c8fab24b4fa5aed3b696fff9e5": {
            "model_name": "HTMLMathStyleModel",
            "model_module": "@jupyter-widgets/controls",
            "model_module_version": "2.0.0",
            "state": {
              "description_width": ""
            }
          },
          "4f9f54b6837c4ccca6e611ad54e32331": {
            "model_name": "HTMLMathModel",
            "model_module": "@jupyter-widgets/controls",
            "model_module_version": "2.0.0",
            "state": {
              "value": "$- m_{1} + 1.0 r_{1} x - 56.7021885618679 x^{2}$",
              "layout": "IPY_MODEL_da0e7c05277549ca83c22453aae433c8",
              "style": "IPY_MODEL_bf8d74c8fab24b4fa5aed3b696fff9e5"
            }
          },
          "b735a89bd9404a6582e045df88f96733": {
            "model_name": "LayoutModel",
            "model_module": "@jupyter-widgets/base",
            "model_module_version": "2.0.0",
            "state": {
              "margin": "0px 0px 0px 0px",
              "width": "15%"
            }
          },
          "fac5413bb2c649e5a76a74ab47680038": {
            "model_name": "HTMLMathStyleModel",
            "model_module": "@jupyter-widgets/controls",
            "model_module_version": "2.0.0",
            "state": {
              "description_width": ""
            }
          },
          "93c5ae79c6eb4b0086bb996065b5ab1d": {
            "model_name": "HTMLMathModel",
            "model_module": "@jupyter-widgets/controls",
            "model_module_version": "2.0.0",
            "state": {
              "value": "$1.0 c_{1} x + c_{2} - 0.5 m_{1} x^{2} + 0.166666666666667 r_{1} x^{3} - 4.72518238015566 x^{4}$",
              "layout": "IPY_MODEL_b735a89bd9404a6582e045df88f96733",
              "style": "IPY_MODEL_fac5413bb2c649e5a76a74ab47680038"
            }
          },
          "ed687c72aec94b08a32e7d70398460fd": {
            "model_name": "LayoutModel",
            "model_module": "@jupyter-widgets/base",
            "model_module_version": "2.0.0",
            "state": {
              "margin": "0px 0px 0px 0px",
              "width": "15%"
            }
          },
          "99a26c8127a44d99ac3838389ee0716e": {
            "model_name": "HTMLMathStyleModel",
            "model_module": "@jupyter-widgets/controls",
            "model_module_version": "2.0.0",
            "state": {
              "description_width": ""
            }
          },
          "0c69aa7d49d84262ac90f0368f2faebc": {
            "model_name": "HTMLMathModel",
            "model_module": "@jupyter-widgets/controls",
            "model_module_version": "2.0.0",
            "state": {
              "value": "$\\left( r_{1} + r_{2} - 50113.4043771237, \\  m_{1} + m_{2} + 1.0 r_{2} - 37881.7021885619, \\  - 1.73839639174508 \\cdot 10^{-5} c_{1} + 1.73839639174508 \\cdot 10^{-5} c_{3} + 0.231333731688467, \\  - 9.67417592006134 \\cdot 10^{-6} c_{1} - 1.73839639174508 \\cdot 10^{-5} c_{2} + 9.67417592006134 \\cdot 10^{-6} c_{3} + 1.73839639174508 \\cdot 10^{-5} c_{4} + 0.0768520162905643, \\  c_{2}, \\  1.0 c_{3} + c_{4} - 0.5 m_{1} + 0.166666666666667 r_{1} + 10574.4414842865, \\  c_{1}, \\  c_{3} - 1.0 m_{1} + 0.5 r_{1} + 12806.0992704794\\right)$",
              "layout": "IPY_MODEL_ed687c72aec94b08a32e7d70398460fd",
              "style": "IPY_MODEL_99a26c8127a44d99ac3838389ee0716e"
            }
          },
          "6da24746489e4551ac2fca561ef8fcef": {
            "model_name": "LayoutModel",
            "model_module": "@jupyter-widgets/base",
            "model_module_version": "2.0.0",
            "state": {
              "margin": "0px 0px 0px 0px",
              "width": "15%"
            }
          },
          "876a0c5f73ec4675a4e1a2730b77b12b": {
            "model_name": "HTMLMathStyleModel",
            "model_module": "@jupyter-widgets/controls",
            "model_module_version": "2.0.0",
            "state": {
              "description_width": ""
            }
          },
          "cc9e2caff5eb4abd9ccecac6cd5ccbfe": {
            "model_name": "HTMLMathModel",
            "model_module": "@jupyter-widgets/controls",
            "model_module_version": "2.0.0",
            "state": {
              "value": "$\\left\\{ c_{1} : 0.0, \\  c_{2} : 0.0, \\  c_{3} : -13307.30625, \\  c_{4} : 2984.65905937497, \\  m_{1} : 2513.17972101016, \\  m_{2} : -8716.1085085105, \\  r_{1} : 6028.77340106146, \\  r_{2} : 44084.6309760622\\right\\}$",
              "layout": "IPY_MODEL_6da24746489e4551ac2fca561ef8fcef",
              "style": "IPY_MODEL_876a0c5f73ec4675a4e1a2730b77b12b"
            }
          },
          "d453d51028dc49cca34370ddad920047": {
            "model_name": "LayoutModel",
            "model_module": "@jupyter-widgets/base",
            "model_module_version": "2.0.0",
            "state": {
              "margin": "0px 0px 0px 0px",
              "width": "15%"
            }
          },
          "68f99cdccb064ec3be26cb27288433bc": {
            "model_name": "HTMLMathStyleModel",
            "model_module": "@jupyter-widgets/controls",
            "model_module_version": "2.0.0",
            "state": {
              "description_width": ""
            }
          },
          "50426a4c57fa433ea5d21e61b5a3ff22": {
            "model_name": "HTMLMathModel",
            "model_module": "@jupyter-widgets/controls",
            "model_module_version": "2.0.0",
            "state": {
              "value": "$- 8.21424 \\cdot 10^{-5} x^{4} + 0.0174673298784232 x^{3} - 0.0218445127940548 x^{2}$",
              "layout": "IPY_MODEL_d453d51028dc49cca34370ddad920047",
              "style": "IPY_MODEL_68f99cdccb064ec3be26cb27288433bc"
            }
          },
          "6b47574e380f4f07802a45b75e686d14": {
            "model_name": "LayoutModel",
            "model_module": "@jupyter-widgets/base",
            "model_module_version": "2.0.0",
            "state": {
              "margin": "0px 0px 0px 0px",
              "width": "15%"
            }
          },
          "d90d41aee95347e0867171f29efe9e87": {
            "model_name": "HTMLMathStyleModel",
            "model_module": "@jupyter-widgets/controls",
            "model_module_version": "2.0.0",
            "state": {
              "description_width": ""
            }
          },
          "f9ef11dc0e0a4f399a55d086b465967b": {
            "model_name": "HTMLMathModel",
            "model_module": "@jupyter-widgets/controls",
            "model_module_version": "2.0.0",
            "state": {
              "value": "$- 56.7021885618679 x^{2} + 6028.77340106146 x - 2513.17972101016$",
              "layout": "IPY_MODEL_6b47574e380f4f07802a45b75e686d14",
              "style": "IPY_MODEL_d90d41aee95347e0867171f29efe9e87"
            }
          },
          "71d3f8583d084b6b8ad979739051e191": {
            "model_name": "LayoutModel",
            "model_module": "@jupyter-widgets/base",
            "model_module_version": "2.0.0",
            "state": {}
          },
          "8fe814eb6f6d4ee8bb59f7c92a611206": {
            "model_name": "HTMLMathStyleModel",
            "model_module": "@jupyter-widgets/controls",
            "model_module_version": "2.0.0",
            "state": {
              "description_width": ""
            }
          },
          "b086045930cf4ec38c0c658fffdb2342": {
            "model_name": "HTMLMathModel",
            "model_module": "@jupyter-widgets/controls",
            "model_module_version": "2.0.0",
            "state": {
              "value": "<font size = '3', font color = 'black', font face = 'Times New Roman'>Ecuacion de momentos del 1 tramo:",
              "layout": "IPY_MODEL_71d3f8583d084b6b8ad979739051e191",
              "style": "IPY_MODEL_8fe814eb6f6d4ee8bb59f7c92a611206"
            }
          },
          "d42e36de4cf04aab8f9da83ebb3ba758": {
            "model_name": "LayoutModel",
            "model_module": "@jupyter-widgets/base",
            "model_module_version": "2.0.0",
            "state": {}
          },
          "88390e28cc0c4a32aa04b88a2fc984d8": {
            "model_name": "HTMLMathStyleModel",
            "model_module": "@jupyter-widgets/controls",
            "model_module_version": "2.0.0",
            "state": {
              "description_width": ""
            }
          },
          "005b5c06c2ce4384b19a827fccb22509": {
            "model_name": "HTMLMathModel",
            "model_module": "@jupyter-widgets/controls",
            "model_module_version": "2.0.0",
            "state": {
              "value": "<font size = '3', font color = 'black', font face = 'Times New Roman'>Ecuacion de deflexiones del 1 tramo:",
              "layout": "IPY_MODEL_d42e36de4cf04aab8f9da83ebb3ba758",
              "style": "IPY_MODEL_88390e28cc0c4a32aa04b88a2fc984d8"
            }
          },
          "275f51b4313f4bae9c9c2e33a7588fda": {
            "model_name": "LayoutModel",
            "model_module": "@jupyter-widgets/base",
            "model_module_version": "2.0.0",
            "state": {}
          },
          "54284f5edecf4eb7a31879088449c1a2": {
            "model_name": "HTMLMathStyleModel",
            "model_module": "@jupyter-widgets/controls",
            "model_module_version": "2.0.0",
            "state": {
              "description_width": ""
            }
          },
          "32c8adf716314869bfffc48f57aabd5c": {
            "model_name": "HTMLMathModel",
            "model_module": "@jupyter-widgets/controls",
            "model_module_version": "2.0.0",
            "state": {
              "value": "<font size = '3', font color = 'black', font face = 'Times New Roman'>Sistema de ecuaciones:",
              "layout": "IPY_MODEL_275f51b4313f4bae9c9c2e33a7588fda",
              "style": "IPY_MODEL_54284f5edecf4eb7a31879088449c1a2"
            }
          },
          "3e72ad21814b402186afc0884b0e0698": {
            "model_name": "LayoutModel",
            "model_module": "@jupyter-widgets/base",
            "model_module_version": "2.0.0",
            "state": {}
          },
          "ec4756f021d84ecf9ba5c76f19a5fd14": {
            "model_name": "HTMLMathStyleModel",
            "model_module": "@jupyter-widgets/controls",
            "model_module_version": "2.0.0",
            "state": {
              "description_width": ""
            }
          },
          "aef37ff4454d46e2bb4e9b63b0de1e2c": {
            "model_name": "HTMLMathModel",
            "model_module": "@jupyter-widgets/controls",
            "model_module_version": "2.0.0",
            "state": {
              "value": "<font size = '3', font color = 'black', font face = 'Times New Roman'>Resultados:",
              "layout": "IPY_MODEL_3e72ad21814b402186afc0884b0e0698",
              "style": "IPY_MODEL_ec4756f021d84ecf9ba5c76f19a5fd14"
            }
          },
          "c6686fbb3c514233acc6465caf0da957": {
            "model_name": "LayoutModel",
            "model_module": "@jupyter-widgets/base",
            "model_module_version": "2.0.0",
            "state": {}
          },
          "cc02de8d7dbd45b7a52c8ae2f6e4e5d2": {
            "model_name": "HTMLMathStyleModel",
            "model_module": "@jupyter-widgets/controls",
            "model_module_version": "2.0.0",
            "state": {
              "description_width": ""
            }
          },
          "b6442bd40e014734b8d3f1b76ea1c4bc": {
            "model_name": "HTMLMathModel",
            "model_module": "@jupyter-widgets/controls",
            "model_module_version": "2.0.0",
            "state": {
              "value": "<font size = '3', font color = 'black', font face = 'Times New Roman'>Ecuacion de deflexiones del 1 tramo:",
              "layout": "IPY_MODEL_c6686fbb3c514233acc6465caf0da957",
              "style": "IPY_MODEL_cc02de8d7dbd45b7a52c8ae2f6e4e5d2"
            }
          },
          "e8938d8f86d34126a8b1b22c6e6d97ef": {
            "model_name": "LayoutModel",
            "model_module": "@jupyter-widgets/base",
            "model_module_version": "2.0.0",
            "state": {}
          },
          "680886a251a44c5cb195e630d310f652": {
            "model_name": "HTMLMathStyleModel",
            "model_module": "@jupyter-widgets/controls",
            "model_module_version": "2.0.0",
            "state": {
              "description_width": ""
            }
          },
          "a4d18a32fc0241ba901c272299d7a898": {
            "model_name": "HTMLMathModel",
            "model_module": "@jupyter-widgets/controls",
            "model_module_version": "2.0.0",
            "state": {
              "value": "<font size = '3', font color = 'black', font face = 'Times New Roman'>Ecuacion de momentos del 1 tramo:",
              "layout": "IPY_MODEL_e8938d8f86d34126a8b1b22c6e6d97ef",
              "style": "IPY_MODEL_680886a251a44c5cb195e630d310f652"
            }
          },
          "6be2157db2184d3cbff1d301f6206068": {
            "model_name": "LayoutModel",
            "model_module": "@jupyter-widgets/base",
            "model_module_version": "2.0.0",
            "state": {
              "border_top": "0px",
              "border_right": "0px",
              "border_bottom": "0px",
              "border_left": "0px",
              "height": "400px",
              "justify_content": "space-around",
              "margin": "0px",
              "padding": "0px",
              "width": "100%"
            }
          },
          "81206c298fbf4b8c9cbf535ce8463c46": {
            "model_name": "VBoxModel",
            "model_module": "@jupyter-widgets/controls",
            "model_module_version": "2.0.0",
            "state": {
              "children": [
                "IPY_MODEL_b086045930cf4ec38c0c658fffdb2342",
                "IPY_MODEL_4f9f54b6837c4ccca6e611ad54e32331",
                "IPY_MODEL_005b5c06c2ce4384b19a827fccb22509",
                "IPY_MODEL_93c5ae79c6eb4b0086bb996065b5ab1d",
                "IPY_MODEL_32c8adf716314869bfffc48f57aabd5c",
                "IPY_MODEL_0c69aa7d49d84262ac90f0368f2faebc",
                "IPY_MODEL_aef37ff4454d46e2bb4e9b63b0de1e2c",
                "IPY_MODEL_cc9e2caff5eb4abd9ccecac6cd5ccbfe",
                "IPY_MODEL_b6442bd40e014734b8d3f1b76ea1c4bc",
                "IPY_MODEL_50426a4c57fa433ea5d21e61b5a3ff22",
                "IPY_MODEL_a4d18a32fc0241ba901c272299d7a898",
                "IPY_MODEL_f9ef11dc0e0a4f399a55d086b465967b"
              ],
              "layout": "IPY_MODEL_6be2157db2184d3cbff1d301f6206068"
            }
          },
          "8b333608410349ab8c3eeb1796e45dbb": {
            "model_name": "LayoutModel",
            "model_module": "@jupyter-widgets/base",
            "model_module_version": "2.0.0",
            "state": {}
          },
          "41ee0516089d4df7951c717854f5f33b": {
            "model_name": "HTMLMathStyleModel",
            "model_module": "@jupyter-widgets/controls",
            "model_module_version": "2.0.0",
            "state": {
              "description_width": ""
            }
          },
          "a4ad03fdfe5d4c8c8a89bf0e41e8a75b": {
            "model_name": "HTMLMathModel",
            "model_module": "@jupyter-widgets/controls",
            "model_module_version": "2.0.0",
            "state": {
              "value": "$\\left[\\begin{array}{cccccccccccccc}1674345267.975 & 0 & 38823880.901 & 0 & 0 & 0 & 0 & 0 & 0 & 0 & 0 & 0 & 0 & 0\\\\0 & 4841330.685 & 1180249.611 & 0 & 0 & 0 & 0 & 0 & 0 & 0 & 0 & 0 & 0 & 0\\\\38823880.901 & 1180249.611 & 4841330.685 & -38823880.901 & 0 & 0 & 0 & 0 & 0 & 0 & 0 & 0 & 0 & 0\\\\0 & 0 & -38823880.901 & 1674345267.975 & -837172633.987 & 0 & 0 & 0 & 0 & 0 & 0 & 0 & 0 & 0\\\\0 & 0 & 0 & -837172633.987 & 1674345267.975 & -837172633.987 & 38823880.901 & 0 & 0 & 0 & 0 & 0 & 0 & 0\\\\0 & 0 & 0 & 0 & -837172633.987 & 1674345267.975 & 0 & 38823880.901 & 0 & 0 & 0 & 0 & 0 & 0\\\\0 & 0 & 0 & 0 & 38823880.901 & 0 & 4841330.685 & 1180249.611 & 0 & 0 & 0 & 0 & 0 & 0\\\\0 & 0 & 0 & 0 & 0 & 38823880.901 & 1180249.611 & 5458095.474 & -61128260.163 & 0 & 0 & 0 & 0 & 0\\\\0 & 0 & 0 & 0 & 0 & 0 & 0 & -61128260.163 & 3307955454.134 & -1653977727.067 & 0 & 0 & 0 & 0\\\\0 & 0 & 0 & 0 & 0 & 0 & 0 & 0 & -1653977727.067 & 3307955454.134 & -1653977727.067 & 61128260.163 & 0 & 0\\\\0 & 0 & 0 & 0 & 0 & 0 & 0 & 0 & 0 & -1653977727.067 & 3307955454.134 & 0 & 61128260.163 & 0\\\\0 & 0 & 0 & 0 & 0 & 0 & 0 & 0 & 0 & 61128260.163 & 0 & 6074860.262 & 1480967.099 & 0\\\\0 & 0 & 0 & 0 & 0 & 0 & 0 & 0 & 0 & 0 & 61128260.163 & 1480967.099 & 6074860.262 & 1480967.099\\\\0 & 0 & 0 & 0 & 0 & 0 & 0 & 0 & 0 & 0 & 0 & 0 & 1480967.099 & 6074860.262\\end{array}\\right]$",
              "layout": "IPY_MODEL_8b333608410349ab8c3eeb1796e45dbb",
              "style": "IPY_MODEL_41ee0516089d4df7951c717854f5f33b"
            }
          },
          "797f8b5a3d3f4bf78adaf97139cb5790": {
            "model_name": "LayoutModel",
            "model_module": "@jupyter-widgets/base",
            "model_module_version": "2.0.0",
            "state": {
              "height": "auto",
              "width": "100%"
            }
          },
          "9992725d577940e1901e2f905fd1c51b": {
            "model_name": "OutputModel",
            "model_module": "@jupyter-widgets/output",
            "model_module_version": "1.0.0",
            "state": {
              "outputs": [
                {
                  "output_type": "display_data",
                  "data": {
                    "text/plain": "HTMLMath(value='')",
                    "application/vnd.jupyter.widget-view+json": {
                      "version_major": 2,
                      "version_minor": 0,
                      "model_id": "a4ad03fdfe5d4c8c8a89bf0e41e8a75b"
                    }
                  },
                  "metadata": {}
                }
              ],
              "layout": "IPY_MODEL_797f8b5a3d3f4bf78adaf97139cb5790"
            }
          },
          "7780544c98824a3880d4f5a6591b6270": {
            "model_name": "LayoutModel",
            "model_module": "@jupyter-widgets/base",
            "model_module_version": "2.0.0",
            "state": {
              "height": "auto",
              "width": "15%"
            }
          },
          "1b2712052fce47e1858ea0d0a1ad8cdc": {
            "model_name": "HTMLMathStyleModel",
            "model_module": "@jupyter-widgets/controls",
            "model_module_version": "2.0.0",
            "state": {
              "description_width": ""
            }
          },
          "276432e351954864a7772837169d723f": {
            "model_name": "HTMLMathModel",
            "model_module": "@jupyter-widgets/controls",
            "model_module_version": "2.0.0",
            "state": {
              "value": "$\\left[\\begin{matrix}0\\\\-0.004\\\\-0.006\\\\-0.001\\\\-0.002\\\\-0.003\\\\-0.009\\\\-0.008\\\\-0.004\\\\-0.003\\\\-0.002\\\\0.015\\\\0.014\\\\0.009\\end{matrix}\\right]$",
              "layout": "IPY_MODEL_7780544c98824a3880d4f5a6591b6270",
              "style": "IPY_MODEL_1b2712052fce47e1858ea0d0a1ad8cdc"
            }
          },
          "071b512b64cf46859ccd9870a70c5279": {
            "model_name": "LayoutModel",
            "model_module": "@jupyter-widgets/base",
            "model_module_version": "2.0.0",
            "state": {
              "height": "auto",
              "width": "15%"
            }
          },
          "afbb223ee6a54827a10e006e19046ef8": {
            "model_name": "HTMLMathStyleModel",
            "model_module": "@jupyter-widgets/controls",
            "model_module_version": "2.0.0",
            "state": {
              "description_width": ""
            }
          },
          "5c887bc39c8148598566e6884b9ce1e4": {
            "model_name": "HTMLMathModel",
            "model_module": "@jupyter-widgets/controls",
            "model_module_version": "2.0.0",
            "state": {
              "value": "$\\left[\\begin{matrix}-8.723\\\\0\\\\0\\\\-8.723\\\\-8.723\\\\-8.723\\\\0\\\\-10000.0\\\\-8.723\\\\-8.723\\\\-8.723\\\\0\\\\0\\\\0\\end{matrix}\\right]$",
              "layout": "IPY_MODEL_071b512b64cf46859ccd9870a70c5279",
              "style": "IPY_MODEL_afbb223ee6a54827a10e006e19046ef8"
            }
          },
          "610fbe980c03467da02e922df67c9aad": {
            "model_name": "LayoutModel",
            "model_module": "@jupyter-widgets/base",
            "model_module_version": "2.0.0",
            "state": {
              "height": "auto",
              "width": "5%"
            }
          },
          "a9326ab9c3784fe3844b8c0e72706577": {
            "model_name": "HTMLMathStyleModel",
            "model_module": "@jupyter-widgets/controls",
            "model_module_version": "2.0.0",
            "state": {
              "description_width": ""
            }
          },
          "94fc4abf47a04d9e90801cb483238aa9": {
            "model_name": "HTMLMathModel",
            "model_module": "@jupyter-widgets/controls",
            "model_module_version": "2.0.0",
            "state": {
              "value": "<font size = '10'>x",
              "layout": "IPY_MODEL_610fbe980c03467da02e922df67c9aad",
              "style": "IPY_MODEL_a9326ab9c3784fe3844b8c0e72706577"
            }
          },
          "19efbdb7cc7a4fb9b8bf75a4ae157c17": {
            "model_name": "LayoutModel",
            "model_module": "@jupyter-widgets/base",
            "model_module_version": "2.0.0",
            "state": {
              "height": "auto",
              "width": "5%"
            }
          },
          "af410c82bfab46ada315a2f322d2bb03": {
            "model_name": "HTMLMathStyleModel",
            "model_module": "@jupyter-widgets/controls",
            "model_module_version": "2.0.0",
            "state": {
              "description_width": ""
            }
          },
          "d4f5701b24b04bc0b9fe55fb49768057": {
            "model_name": "HTMLMathModel",
            "model_module": "@jupyter-widgets/controls",
            "model_module_version": "2.0.0",
            "state": {
              "value": "<font size = '10'>=",
              "layout": "IPY_MODEL_19efbdb7cc7a4fb9b8bf75a4ae157c17",
              "style": "IPY_MODEL_af410c82bfab46ada315a2f322d2bb03"
            }
          },
          "c0ab51c8cddd4b569369ae7225907b57": {
            "model_name": "LayoutModel",
            "model_module": "@jupyter-widgets/base",
            "model_module_version": "2.0.0",
            "state": {
              "align_items": "center",
              "border_top": "0px",
              "border_right": "0px",
              "border_bottom": "0px",
              "border_left": "0px",
              "height": "auto",
              "justify_content": "space-between",
              "margin": "0px",
              "padding": "0px",
              "width": "100%"
            }
          },
          "9d97a9d3a3f0427fb14a7c0e56996cc1": {
            "model_name": "HBoxModel",
            "model_module": "@jupyter-widgets/controls",
            "model_module_version": "2.0.0",
            "state": {
              "children": [
                "IPY_MODEL_9992725d577940e1901e2f905fd1c51b",
                "IPY_MODEL_94fc4abf47a04d9e90801cb483238aa9",
                "IPY_MODEL_276432e351954864a7772837169d723f",
                "IPY_MODEL_d4f5701b24b04bc0b9fe55fb49768057",
                "IPY_MODEL_5c887bc39c8148598566e6884b9ce1e4"
              ],
              "layout": "IPY_MODEL_c0ab51c8cddd4b569369ae7225907b57"
            }
          },
          "978bd4bedda54bf9a63c5f6cfc5ea639": {
            "model_name": "LayoutModel",
            "model_module": "@jupyter-widgets/base",
            "model_module_version": "2.0.0",
            "state": {
              "border_top": "0px",
              "border_right": "0px",
              "border_bottom": "0px",
              "border_left": "0px",
              "height": "100%",
              "justify_content": "space-around",
              "margin": "0px",
              "padding": "0px",
              "width": "100%"
            }
          },
          "689325b31abc4b149b99558d7161d4cc": {
            "model_name": "VBoxModel",
            "model_module": "@jupyter-widgets/controls",
            "model_module_version": "2.0.0",
            "state": {
              "children": [
                "IPY_MODEL_7481c8516c364aa8832e9d9663e2573e",
                "IPY_MODEL_14c70d6289b54516a0a1c2650e8f18de"
              ],
              "layout": "IPY_MODEL_978bd4bedda54bf9a63c5f6cfc5ea639"
            }
          },
          "d0b46dcfd8de4359bc977ab70a6482db": {
            "model_name": "LayoutModel",
            "model_module": "@jupyter-widgets/base",
            "model_module_version": "2.0.0",
            "state": {}
          },
          "ba830e59c8874467b8594789f8006ce8": {
            "model_name": "VBoxModel",
            "model_module": "@jupyter-widgets/controls",
            "model_module_version": "2.0.0",
            "state": {
              "_dom_classes": [
                "widget-interact"
              ],
              "children": [
                "IPY_MODEL_e6f592bd9ad44ec19cc19aadf40616a6",
                "IPY_MODEL_9cdea4abcc7b48ab86802d65836942d3"
              ],
              "layout": "IPY_MODEL_d0b46dcfd8de4359bc977ab70a6482db"
            }
          },
          "de5ed85f581349e58eacd1091833ffe5": {
            "model_name": "LayoutModel",
            "model_module": "@jupyter-widgets/base",
            "model_module_version": "2.0.0",
            "state": {}
          },
          "9cdea4abcc7b48ab86802d65836942d3": {
            "model_name": "OutputModel",
            "model_module": "@jupyter-widgets/output",
            "model_module_version": "1.0.0",
            "state": {
              "layout": "IPY_MODEL_de5ed85f581349e58eacd1091833ffe5"
            }
          },
          "f886a5ecab48402a8cd5662443661b92": {
            "model_name": "LayoutModel",
            "model_module": "@jupyter-widgets/base",
            "model_module_version": "2.0.0",
            "state": {}
          },
          "13d40f5ed8854f0c9ff8c48f6e0b78d1": {
            "model_name": "VBoxModel",
            "model_module": "@jupyter-widgets/controls",
            "model_module_version": "2.0.0",
            "state": {
              "_dom_classes": [
                "widget-interact"
              ],
              "children": [
                "IPY_MODEL_5516002c89a444058c6437453c4e5b83",
                "IPY_MODEL_49f24d8b353242b7a8ccc7962bc339c4"
              ],
              "layout": "IPY_MODEL_f886a5ecab48402a8cd5662443661b92"
            }
          },
          "71a838e26c98449c99ef3120b21b26aa": {
            "model_name": "LayoutModel",
            "model_module": "@jupyter-widgets/base",
            "model_module_version": "2.0.0",
            "state": {}
          },
          "49f24d8b353242b7a8ccc7962bc339c4": {
            "model_name": "OutputModel",
            "model_module": "@jupyter-widgets/output",
            "model_module_version": "1.0.0",
            "state": {
              "layout": "IPY_MODEL_71a838e26c98449c99ef3120b21b26aa"
            }
          },
          "0d7b150129294bc8b5d85568120ecff3": {
            "model_name": "LayoutModel",
            "model_module": "@jupyter-widgets/base",
            "model_module_version": "2.0.0",
            "state": {}
          },
          "96892c55f72d4b248fcd4d82cd424c78": {
            "model_name": "VBoxModel",
            "model_module": "@jupyter-widgets/controls",
            "model_module_version": "2.0.0",
            "state": {
              "_dom_classes": [
                "widget-interact"
              ],
              "children": [
                "IPY_MODEL_55f5ab65e965420fbe6e2fbef7bd67bb",
                "IPY_MODEL_d1c7cd522b524872b4c9cd340a6fb37b"
              ],
              "layout": "IPY_MODEL_0d7b150129294bc8b5d85568120ecff3"
            }
          },
          "c20c362352534c0bb0ac0ac3a4211f7e": {
            "model_name": "LayoutModel",
            "model_module": "@jupyter-widgets/base",
            "model_module_version": "2.0.0",
            "state": {}
          },
          "d1c7cd522b524872b4c9cd340a6fb37b": {
            "model_name": "OutputModel",
            "model_module": "@jupyter-widgets/output",
            "model_module_version": "1.0.0",
            "state": {
              "layout": "IPY_MODEL_c20c362352534c0bb0ac0ac3a4211f7e"
            }
          },
          "f3025f43f46c498fbd937ee2c35a131e": {
            "model_name": "LayoutModel",
            "model_module": "@jupyter-widgets/base",
            "model_module_version": "2.0.0",
            "state": {}
          },
          "9d4da482a8c7461ea6e2eba75878a381": {
            "model_name": "VBoxModel",
            "model_module": "@jupyter-widgets/controls",
            "model_module_version": "2.0.0",
            "state": {
              "_dom_classes": [
                "widget-interact"
              ],
              "children": [
                "IPY_MODEL_4e6ae5fdf7d64d2ea8da91934d1dee32",
                "IPY_MODEL_dc7a048d18ea4beda502edc037aa59ff"
              ],
              "layout": "IPY_MODEL_f3025f43f46c498fbd937ee2c35a131e"
            }
          },
          "4f0a1ac86ec246cb9e9c82c9021951c4": {
            "model_name": "LayoutModel",
            "model_module": "@jupyter-widgets/base",
            "model_module_version": "2.0.0",
            "state": {}
          },
          "dc7a048d18ea4beda502edc037aa59ff": {
            "model_name": "OutputModel",
            "model_module": "@jupyter-widgets/output",
            "model_module_version": "1.0.0",
            "state": {
              "layout": "IPY_MODEL_4f0a1ac86ec246cb9e9c82c9021951c4"
            }
          },
          "5294ea20594040f0a98820e4ad4d9b90": {
            "model_name": "LayoutModel",
            "model_module": "@jupyter-widgets/base",
            "model_module_version": "2.0.0",
            "state": {}
          },
          "22f8ecc3a7e34f36985a46ed337d961b": {
            "model_name": "VBoxModel",
            "model_module": "@jupyter-widgets/controls",
            "model_module_version": "2.0.0",
            "state": {
              "_dom_classes": [
                "widget-interact"
              ],
              "children": [
                "IPY_MODEL_7e63e3eeb77b417c8032cbb70e98b067",
                "IPY_MODEL_322d0712730c4c86ae86111215f643b2"
              ],
              "layout": "IPY_MODEL_5294ea20594040f0a98820e4ad4d9b90"
            }
          },
          "e2becdd958ea42618f107105391518e7": {
            "model_name": "LayoutModel",
            "model_module": "@jupyter-widgets/base",
            "model_module_version": "2.0.0",
            "state": {}
          },
          "322d0712730c4c86ae86111215f643b2": {
            "model_name": "OutputModel",
            "model_module": "@jupyter-widgets/output",
            "model_module_version": "1.0.0",
            "state": {
              "layout": "IPY_MODEL_e2becdd958ea42618f107105391518e7"
            }
          },
          "df8ac29a585b4f5c991dc2124b1daff4": {
            "model_name": "LayoutModel",
            "model_module": "@jupyter-widgets/base",
            "model_module_version": "2.0.0",
            "state": {}
          },
          "a7751dd8583247ca9b6ede49a0494828": {
            "model_name": "VBoxModel",
            "model_module": "@jupyter-widgets/controls",
            "model_module_version": "2.0.0",
            "state": {
              "_dom_classes": [
                "widget-interact"
              ],
              "children": [
                "IPY_MODEL_0d450bff50dd40289483669f2a291dd4",
                "IPY_MODEL_0ce1298105af4cd587135f3d6406c924"
              ],
              "layout": "IPY_MODEL_df8ac29a585b4f5c991dc2124b1daff4"
            }
          },
          "463695600dad42d38823367947891be1": {
            "model_name": "LayoutModel",
            "model_module": "@jupyter-widgets/base",
            "model_module_version": "2.0.0",
            "state": {}
          },
          "0ce1298105af4cd587135f3d6406c924": {
            "model_name": "OutputModel",
            "model_module": "@jupyter-widgets/output",
            "model_module_version": "1.0.0",
            "state": {
              "layout": "IPY_MODEL_463695600dad42d38823367947891be1"
            }
          },
          "27d6bd91628147a8be69484cffd90ff7": {
            "model_name": "LayoutModel",
            "model_module": "@jupyter-widgets/base",
            "model_module_version": "2.0.0",
            "state": {}
          },
          "9af726033663443dbe0f54b63297a6df": {
            "model_name": "TooltipModel",
            "model_module": "bqplot",
            "model_module_version": "^0.5",
            "state": {
              "_model_module_version": "^0.5",
              "_view_module_version": "^0.5",
              "fields": [
                "x",
                "y"
              ],
              "formats": [
                ".2f",
                ".2f"
              ],
              "layout": "IPY_MODEL_27d6bd91628147a8be69484cffd90ff7"
            }
          },
          "6983496045ed4390b9231af571f98a20": {
            "model_name": "LayoutModel",
            "model_module": "@jupyter-widgets/base",
            "model_module_version": "2.0.0",
            "state": {}
          },
          "2a1d8186747e4dc0897dd8a23e82ffbe": {
            "model_name": "TooltipModel",
            "model_module": "bqplot",
            "model_module_version": "^0.5",
            "state": {
              "_model_module_version": "^0.5",
              "_view_module_version": "^0.5",
              "fields": [
                "x",
                "y"
              ],
              "formats": [
                ".2f",
                ".2f"
              ],
              "layout": "IPY_MODEL_6983496045ed4390b9231af571f98a20"
            }
          }
        }
      }
    }
  },
  "nbformat_minor": 4,
  "nbformat": 4,
  "cells": [
    {
      "cell_type": "code",
      "source": "import micropip\nawait micropip.install(['ipywidgets', 'bqplot'])\nimport ipywidgets as ipw\nimport bqplot as bqp\nimport numpy as np\nimport sympy as sp\nfrom bqplot import pyplot as plt\nfrom scipy import interpolate as numint\nfrom sympy.printing import latex\nfrom sympy import *",
      "metadata": {
        "jupyter": {
          "source_hidden": true
        },
        "trusted": true
      },
      "execution_count": 1,
      "outputs": []
    },
    {
      "cell_type": "markdown",
      "source": "\\begin{align}\\Huge\n\\int \\hspace{1cm} VS \\hspace{1cm} \\sum\n\\end{align}",
      "metadata": {}
    },
    {
      "cell_type": "code",
      "source": "margin1 = '0px 0px 10px 0px'\nwidth1  = '225px'\nHTML3 = ipw.HTML(\n        value  = f'<center><font face=\"Times New Roman\"><font size=\"5\">\\\n                 Parametros de calculo\\\n                 </font></font></center>',\n        layout = ipw.Layout(width = '250px', margin = margin1)\n) \nDropdown1 = ipw.Dropdown(\n            options = ['Elastico', 'Fijo'],\n            value = 'Elastico',\n            description = 'Apoyo 1',\n            layout = ipw.Layout(width = width1, margin = margin1)\n)\nDropdown2 = ipw.Dropdown(\n            options = ['Elastico', 'Fijo'],\n            value = 'Fijo',\n            description = 'Apoyo 2',\n            layout = ipw.Layout(width = width1, margin = margin1)\n)\nDropdown3 = ipw.Dropdown(\n            options = ['Cortantes', 'Momentos', 'Pendientes', 'Deflexiones'],\n            value = 'Cortantes',\n            description = 'Grafica de: ',\n            layout = ipw.Layout(width = '30%', height = 'auto', margin = '0px 30px 0px 0px')\n)\nBoundedFloatText1 = ipw.BoundedFloatText(\n                    value = 7850,\n                    min = 10,\n                    max = 10000,\n                    step = 10,\n                    description = 'D (kg/m3)',\n                    layout = ipw.Layout(width = width1, margin = margin1)\n)\nBoundedFloatText2 = ipw.BoundedFloatText(\n                    value = 50,\n                    min = 10,\n                    max = 10000,\n                    step = 0.005,\n                    description = 'Ø ext. (mm)',\n                    layout = ipw.Layout(width = width1, margin = margin1)\n)\nBoundedFloatText3 = ipw.BoundedFloatText(\n                    value = 25,\n                    min = 0,\n                    max = 10000,\n                    step = 0.005,\n                    description = 'Ø int. (mm)',\n                    layout = ipw.Layout(width = width1, margin = margin1)\n)\nBoundedFloatText4 = ipw.BoundedFloatText(\n                    value = 100,\n                    min = 10,\n                    max = 10000,\n                    step = 0.05,\n                    description = 'L (mm)',\n                    layout = ipw.Layout(width = width1, margin = margin1)\n)\nBoundedFloatText5 = ipw.BoundedIntText(\n                    value = 10,\n                    min = 0,\n                    max = 1000,\n                    step = 1,\n                    description = 'Elementos',\n                    layout = ipw.Layout(width = width1, margin = margin1)\n)\nFloatText2 = ipw.FloatText(\n             description = 'F (KN)',\n             layout = ipw.Layout(width = width1, margin = margin1)\n)\nFloatText3 = ipw.FloatText(\n             description = 'M (KN.m)',\n             layout = ipw.Layout(width = width1, margin = margin1)\n)\nFloatSlider3 = ipw.FloatSlider(\n               description = 'X',\n               min = 0,\n               max = BoundedFloatText4.value,\n               value = BoundedFloatText4.value / 2,\n               layout = ipw.Layout(margin = margin1)\n)\nCheckbox1 = ipw.Checkbox(\n            value = True,\n            description = 'Peso propio del eje',\n            layout = ipw.Layout(width = width1, margin = margin1),\n            indent = True\n)\nButton1 = ipw.Button(\n          description = 'Calcular',\n          button_style = 'success',\n          icon = 'fa-gear',\n          layout = ipw.Layout(width = '20%', height = 'auto', margin = '0px 5px 0px 0px')\n)\nButton1.style.button_color = 'black'\nButton2 = ipw.Button(\n          description = 'Graficar',\n          button_style = 'success',\n          icon = 'fa-pencil',\n          layout = ipw.Layout(width = '20%', height = 'auto', margin = '0px 35px 0px 0px')\n)\nButton2.style.button_color = 'black'\nButton3 = ipw.Button(\n          description = 'Enumerar',\n          button_style = 'success',\n          icon = 'fa-eye',\n          layout = ipw.Layout(width = '20%', height = 'auto', margin = '0px 0px 0px 0px')\n)\nButton3.style.button_color = 'black'\n\ngrid1 = ipw.GridspecLayout(4, 3, height = '120px', width = '710px')\nfor i in range(4):\n    for j in range(3):\n        grid1[i, j] = ipw.Text(layout = ipw.Layout(height = '5px', width = '232px'), disabled = True)\ngrid1[0, 1].value = 'Deflexiones (mm)'\ngrid1[0, 2].value = 'Velocidad Crítica (rpm)'\ngrid1[1, 0].value = 'Bernoulli'\ngrid1[2, 0].value = 'Timoshenko'\ngrid1[3, 0].value = '% de Error'\n\nscale_x2 = bqp.LinearScale()\nscale_y2 = bqp.LinearScale()\nLines1 = bqp.Lines(x = [], y = [],\n         scales = {'x': scale_x2, 'y': scale_y2,},\n         opacities = [1],\n         colors = ['black'],\n         stroke_width = 1.5,\n         line_style = 'solid'\n)\nLines2 = bqp.Lines(x = [], y = [],\n         scales = {'x': scale_x2, 'y': scale_y2,},\n         opacities = [1],\n         colors = ['black'],\n         stroke_width = 1.5,\n         line_style = 'dashed'\n)\nscale_x3 = bqp.LinearScale()\nscale_y3 = bqp.LinearScale()\nLines3 = bqp.Lines(x = [], y = [],\n         scales = {'x': scale_x3, 'y': scale_y3,},\n         opacities = [1],\n         colors = ['black'],\n         stroke_width = 2,\n         line_style = 'solid',\n         fill = 'inside',\n         fill_opacities = [0.3],\n         close_path = True,\n         marker = 'circle',\n         marker_size = 50\n)\nscale_x4 = bqp.LinearScale()\nscale_y4 = bqp.LinearScale()\nLines4 = bqp.Lines(x = [], y = [],\n         scales = {'x': scale_x4, 'y': scale_y4,},\n         opacities = [1],\n         colors = ['black'],\n         stroke_width = 2,\n         line_style = 'solid',\n         fill = 'inside',\n         fill_opacities = [0.3],\n         close_path = True\n)\nScatter1 = bqp.Scatter(x = [], y = [],\n                   scales = {'x': scale_x2, 'y': scale_y2,},\n                   opacities = [1],\n                   colors = ['black'],\n                   marker = 'triangle-up',\n                   default_size = 250\n)\nScatter2 = bqp.Scatter(x = [], y = [],\n                   scales = {'x': scale_x2, 'y': scale_y2,},\n                   opacities = [1],\n                   colors = ['black'],\n                   marker = 'square',\n                   default_size = 250\n)\nScatter3 = bqp.Scatter(x = [], y = [],\n                   scales = {'x': scale_x2, 'y': scale_y2,},\n                   opacities = [1],\n                   colors = ['black'],\n                   marker = 'triangle-down',\n                   default_size = 100\n)\nScatter4 = bqp.Scatter(x = [], y = [],\n                   scales = {'x': scale_x4, 'y': scale_y4,},\n                   opacities = [1],\n                   colors = ['black'],\n                   marker = 'circle',\n                   default_size = 50,\n                   unhovered_style = {'opacity': 0.5}\n)\n\nax_x2   = bqp.Axis(scale = scale_x2, label = 'Longitud (mm)', label_color = 'black', label_offset = '-2em', grid_lines = 'none', tick_format = '0.0f', tick_style = {'stroke': 'black'}, color = 'black')\nax_y2   = bqp.Axis(scale = scale_y2, label = 'Diametro (mm)', label_color = 'black', label_offset = '-2em', grid_lines = 'none', tick_format = '0.0f', tick_style = {'stroke': 'black'}, color = 'black', orientation = 'vertical')\nm_fig   = dict(left = 50, top = 20, bottom = 30, right = 30)\nfig3    = plt.figure(title = 'Esquema del eje a analizar', title_style = {'font-size': '15px','fill': 'black'}, marks = [Lines1, Lines2, Scatter1, Scatter2, Scatter3], axes = [ax_x2, ax_y2], fig_margin = m_fig, layout=ipw.Layout(width = 'auto', height = '65%'))\n\nax_x3   = bqp.Axis(scale = scale_x3, label = 'Longitud (mm)', label_color = 'black', label_offset = '-1em', grid_lines = 'dashed', tick_format = '0.0f', tick_style = {'stroke': 'black'}, color = 'black')\nax_y3   = bqp.Axis(scale = scale_y3, label = 'Resultado', label_color = 'black', label_offset = '-1em', grid_lines = 'dashed', tick_format = '0.0f', tick_style = {'stroke': 'black'}, color = 'black', orientation = 'vertical')\nm_fig   = dict(left = 50, top = 20, bottom = 30, right = 30)\nfig4    = plt.figure(title = 'Grafica simbolica', title_style = {'font-size': '15px','fill': 'black'}, marks = [Lines3], axes = [ax_x3, ax_y3], fig_margin = m_fig, layout=ipw.Layout(width = 'auto', height = '50%'))\n\nax_x4   = bqp.Axis(scale = scale_x4, label = 'Longitud (mm)', label_color = 'black', label_offset = '-1em', grid_lines = 'dashed', tick_format = '0.0f', tick_style = {'stroke': 'black'}, color = 'black')\nax_y4   = bqp.Axis(scale = scale_y4, label = 'Resultado', label_color = 'black', label_offset = '-1em', grid_lines = 'dashed', tick_format = '0.0f', tick_style = {'stroke': 'black'}, color = 'black', orientation = 'vertical')\nm_fig   = dict(left = 50, top = 20, bottom = 30, right = 30)\nfig5    = plt.figure(title = 'Grafica numerica', title_style = {'font-size': '15px','fill': 'black'}, marks = [Lines4, Scatter4], axes = [ax_x4, ax_y4], fig_margin = m_fig, layout=ipw.Layout(width = 'auto', height = '50%'))\n\nHBox3 = ipw.HBox([Button1, Dropdown3, Button2, Button3], \n        layout = ipw.Layout(justify_content = 'space-between', width = 'auto', height = 'auto', margin = '0px', padding = '0px', border = '0px'))\nVBox4 = ipw.VBox([HBox3, fig3, grid1], \n        layout = ipw.Layout(justify_content = 'space-around', width = '75%', height = 'auto', margin = '0px', padding = '0px', border = '0px'))\nVBox2 = ipw.VBox([HTML3, BoundedFloatText1, BoundedFloatText2, BoundedFloatText3, BoundedFloatText4, FloatText2, FloatText3, Dropdown1, Dropdown2, BoundedFloatText5, Checkbox1, FloatSlider3], \n        layout = ipw.Layout(justify_content = 'flex-start', width = '35%', height = 'auto', margin = '0px', padding = '0px', border = '0px'))\nHBox2 = ipw.HBox([VBox2, VBox4])\ndisplay(HBox2)",
      "metadata": {
        "jupyter": {
          "source_hidden": true
        },
        "tags": [],
        "trusted": true
      },
      "execution_count": 2,
      "outputs": [
        {
          "output_type": "display_data",
          "data": {
            "text/plain": "HBox(children=(VBox(children=(HTML(value='<center><font face=\"Times New Roman\"><font size=\"5\">                …",
            "application/vnd.jupyter.widget-view+json": {
              "version_major": 2,
              "version_minor": 0,
              "model_id": "1a247c7053b8437489d493572d7ba767"
            }
          },
          "metadata": {}
        }
      ]
    },
    {
      "cell_type": "code",
      "source": "HTMLMath16 = ipw.HTMLMath(\n    layout = ipw.Layout(width = '15%', margin = '0px 0px 0px 0px')\n)\nHTMLMath17 = ipw.HTMLMath(\n    layout = ipw.Layout(width = '15%', margin = '0px 0px 0px 0px')\n)\nHTMLMath18 = ipw.HTMLMath(\n    layout = ipw.Layout(width = '15%', margin = '0px 0px 0px 0px')\n)\nHTMLMath19 = ipw.HTMLMath(\n    layout = ipw.Layout(width = '15%', margin = '0px 0px 0px 0px')\n)\nHTMLMath20 = ipw.HTMLMath(\n    layout = ipw.Layout(width = '15%', margin = '0px 0px 0px 0px')\n)\nHTMLMath21 = ipw.HTMLMath(\n    layout = ipw.Layout(width = '15%', margin = '0px 0px 0px 0px')\n)\nVBox5 = ipw.VBox([ipw.HTMLMath(r\"<font size = '3', font color = 'black', font face = 'Times New Roman'>Ecuacion de momentos del 1 tramo:\"), HTMLMath16, \n                  ipw.HTMLMath(r\"<font size = '3', font color = 'black', font face = 'Times New Roman'>Ecuacion de deflexiones del 1 tramo:\"), HTMLMath17, \n                  ipw.HTMLMath(r\"<font size = '3', font color = 'black', font face = 'Times New Roman'>Sistema de ecuaciones:\"), HTMLMath18, \n                  ipw.HTMLMath(r\"<font size = '3', font color = 'black', font face = 'Times New Roman'>Resultados:\"), HTMLMath19, \n                  ipw.HTMLMath(r\"<font size = '3', font color = 'black', font face = 'Times New Roman'>Ecuacion de deflexiones del 1 tramo:\"), HTMLMath20, \n                  ipw.HTMLMath(r\"<font size = '3', font color = 'black', font face = 'Times New Roman'>Ecuacion de momentos del 1 tramo:\"), HTMLMath21], \n                  layout = ipw.Layout(justify_content = 'space-around', width = '100%', height = '400px', margin = '0px', padding = '0px', border = '0px'))\ndisplay(VBox5)",
      "metadata": {
        "jupyter": {
          "source_hidden": true
        },
        "trusted": true
      },
      "execution_count": 3,
      "outputs": [
        {
          "output_type": "display_data",
          "data": {
            "text/plain": "VBox(children=(HTMLMath(value=\"<font size = '3', font color = 'black', font face = 'Times New Roman'>Ecuacion …",
            "application/vnd.jupyter.widget-view+json": {
              "version_major": 2,
              "version_minor": 0,
              "model_id": "81206c298fbf4b8c9cbf535ce8463c46"
            }
          },
          "metadata": {}
        }
      ]
    },
    {
      "cell_type": "code",
      "source": "HTMLMath22 = ipw.HTMLMath()\nOutput1 = ipw.Output(\n          layout = ipw.Layout(width = '100%', height = 'auto')\n)\nwith Output1:\n    display(HTMLMath22)\nHTMLMath23 = ipw.HTMLMath(\n             layout = ipw.Layout(width = '15%', height = 'auto')\n)\nHTMLMath24 = ipw.HTMLMath(\n             layout = ipw.Layout(width = '15%', height = 'auto')\n)\nHTMLMath25 = ipw.HTMLMath(\n             value = r\"<font size = '10'>x\",\n             layout = ipw.Layout(width = '5%', height = 'auto')\n)\nHTMLMath26 = ipw.HTMLMath(\n             value = r\"<font size = '10'>=\",\n             layout = ipw.Layout(width = '5%', height = 'auto')\n)\nHBox4 = ipw.HBox([Output1, HTMLMath25, HTMLMath23, HTMLMath26, HTMLMath24], \n        layout = ipw.Layout(justify_content = 'space-between', align_items = 'center', width = '100%', height = 'auto', margin = '0px', padding = '0px', border = '0px'))\ndisplay(HBox4)",
      "metadata": {
        "jupyter": {
          "source_hidden": true
        },
        "trusted": true
      },
      "execution_count": 4,
      "outputs": [
        {
          "output_type": "display_data",
          "data": {
            "text/plain": "HBox(children=(Output(layout=Layout(height='auto', width='100%')), HTMLMath(value=\"<font size = '10'>x\", layou…",
            "application/vnd.jupyter.widget-view+json": {
              "version_major": 2,
              "version_minor": 0,
              "model_id": "9d97a9d3a3f0427fb14a7c0e56996cc1"
            }
          },
          "metadata": {}
        }
      ]
    },
    {
      "cell_type": "code",
      "source": "VBox3 = ipw.VBox([fig4, fig5], \n        layout = ipw.Layout(justify_content = 'space-around', width = '100%', height = '100%', margin = '0px', padding = '0px', border = '0px'))\ndisplay(VBox3)",
      "metadata": {
        "jupyter": {
          "source_hidden": true
        },
        "trusted": true
      },
      "execution_count": 5,
      "outputs": [
        {
          "output_type": "display_data",
          "data": {
            "text/plain": "VBox(children=(Figure(axes=[Axis(color='black', grid_lines='dashed', label='Longitud (mm)', label_color='black…",
            "application/vnd.jupyter.widget-view+json": {
              "version_major": 2,
              "version_minor": 0,
              "model_id": "689325b31abc4b149b99558d7161d4cc"
            }
          },
          "metadata": {}
        }
      ]
    },
    {
      "cell_type": "code",
      "source": "def round_expr(expr, num_digits):\n    return expr.xreplace({n : round(n, num_digits) for n in expr.atoms(Number)})\n\ndef count_elems(valor):\n    if 'NDom' in globals():\n        if Scatter4.names == None:\n            Scatter4.names = np.arange(1, len(NDom) + 1)\nButton3.on_click(count_elems)\n\ndef draw_shaft(DE, DI, L, AI, AD, FS3):\n    Lines1.x = np.array([[-L / 2, L / 2, L / 2, -L / 2, -L / 2], [FS3 - L / 2, FS3 - L / 2]], dtype = 'object')\n    Lines1.y = np.array([[-DE / 2, -DE / 2, DE / 2, DE / 2, -DE / 2], [DE / 2, DE]], dtype = 'object')\n    Lines2.x = np.array([-L / 2, L / 2, L / 2, -L / 2, -L / 2])\n    Lines2.y = np.array([-DI / 2, -DI / 2, DI / 2, DI / 2, -DI / 2]) \n    Scatter1.x = [-L / 2]\n    Scatter1.y = [-DE / 2]\n    Scatter2.x = [L / 2]\n    Scatter2.y = [-DE / 2]\n    Scatter3.x = [FS3 - L / 2]\n    Scatter3.y = [DE / 2]\n    if AI == 'Elastico':\n        Scatter1.marker = 'triangle-up'\n    else:\n        Scatter1.marker = 'square'\n    if AD == 'Elastico':\n        Scatter2.marker = 'triangle-up'\n    else:\n        Scatter2.marker = 'square'\n\ndef upd_diamay(valor):\n    draw_shaft(valor, BoundedFloatText3.value, BoundedFloatText4.value, Dropdown1.value, Dropdown2.value, FloatSlider3.value)\nf_upd_diamay = ipw.interactive(upd_diamay, valor = BoundedFloatText2)\n\ndef upd_diamen(valor):\n    draw_shaft(BoundedFloatText2.value, valor, BoundedFloatText4.value, Dropdown1.value, Dropdown2.value, FloatSlider3.value)\nf_upd_diamen = ipw.interactive(upd_diamen, valor = BoundedFloatText3)\n\ndef upd_longit(valor):\n    draw_shaft(BoundedFloatText2.value, BoundedFloatText3.value, valor, Dropdown1.value, Dropdown2.value, FloatSlider3.value)\n    FloatSlider3.max = valor\nf_upd_longit = ipw.interactive(upd_longit, valor = BoundedFloatText4)\n\ndef upd_lefapo(valor):\n    draw_shaft(BoundedFloatText2.value, BoundedFloatText3.value, BoundedFloatText4.value, valor, Dropdown2.value, FloatSlider3.value)\nf_upd_lefapo = ipw.interactive(upd_lefapo, valor = Dropdown1)\n\ndef upd_rigapo(valor):\n    draw_shaft(BoundedFloatText2.value, BoundedFloatText3.value, BoundedFloatText4.value, Dropdown1.value, valor, FloatSlider3.value)\nf_upd_rigapo = ipw.interactive(upd_rigapo, valor = Dropdown2)\n\ndef move_arrow(valor):\n    draw_shaft(BoundedFloatText2.value, BoundedFloatText3.value, BoundedFloatText4.value, Dropdown1.value, Dropdown2.value, valor)\nf_move_arrow = ipw.interactive(move_arrow, valor = FloatSlider3)\n\ndef num_calc(L, E, I, G):\n    L = L\n    E = E\n    I = I\n    G = G\n    Nod_Tot = np.concatenate((np.array([0]), np.cumsum(L[0:2])))\n    Nod_Ini = Nod_Tot[0:2]\n    Nod_Fin = Nod_Tot[1:3]\n    A   = (np.pi / 4) * ((BoundedFloatText2.value / 1000) ** 2 - (BoundedFloatText3.value / 1000) ** 2)       \n    m   = np.repeat(BoundedFloatText3.value / BoundedFloatText2.value, 2)\n    k   = (6 * (1 + m ** 2) ** 2) / (7 * (1 + m ** 2) ** 2 + 20 * m ** 2)\n    p   = (12 * E * I) / (k * A * G * L ** 2)\n    N_E = np.repeat(BoundedFloatText5.value + 1, 2)\n    L_L = (Nod_Fin - Nod_Ini) / N_E\n    I_I = np.repeat(I, 2)\n    P_P = np.repeat(p, 2)\n    E_E = np.repeat(E, 2)\n    L1  = [np.zeros((1, N_E[0]))[0], np.zeros((1, N_E[1]))[0]]\n    I1  = [np.zeros((1, N_E[0]))[0], np.zeros((1, N_E[1]))[0]]\n    E1  = [np.zeros((1, N_E[0]))[0], np.zeros((1, N_E[1]))[0]]\n    phi1 = [np.zeros((1, N_E[0]))[0], np.zeros((1, N_E[1]))[0]]\n    for i in range(2):\n        L1[i] = np.repeat(L_L[i], N_E[i])\n        I1[i] = np.repeat(I_I[i], N_E[i])\n        E1[i] = np.repeat(E_E[i], N_E[i])\n        phi1[i] = np.repeat(P_P[i], N_E[i])\n    L1   = np.concatenate((L1[0], L1[1]))\n    I1   = np.concatenate((I1[0], I1[1]))\n    E1   = np.concatenate((E1[0], E1[1]))\n    phi1 = np.concatenate((phi1[0], phi1[1]))\n    MG   = np.zeros((sum(N_E), 2 * (sum(N_E) + 1), 2 * (sum(N_E) + 1)))\n    ML   = np.zeros((sum(N_E), 4, 4))\n    for i in range(sum(N_E)):\n        ML[i, :, :] = (E1[i] / L1[i] ** 3) * (I1[i] / (1 + phi1[i])) * np.array([\n                      [12, 6 * L1[i], -12, 6 * L1[i]],\n                      [6 * L1[i], (4 + phi1[i]) * L1[i] ** 2, -6 * L1[i], (2 - phi1[i]) * L1[i] ** 2],\n                      [-12, -6 * L1[i], 12, -6 * L1[i]],\n                      [6 * L1[i], (2 - phi1[i]) * L1[i] ** 2, -6 * L1[i], (4 + phi1[i]) * L1[i] ** 2]])\n        MG[i, np.array([2 * i, 2 * i + 1, 2 * i + 2, 2 * i + 3])[:,np.newaxis], np.array([2 * i, 2 * i + 1, 2 * i + 2, 2 * i + 3])[np.newaxis,:]] = ML[i, :, :]\n    MG = np.sum(MG, axis = 0)\n\n    FCT = np.arange(0, (3 + 2 * BoundedFloatText5.value) * 2)\n    FCE = np.array([0, (2 + 2 * BoundedFloatText5.value) * 2])\n    if Dropdown1.value == 'Fijo':\n        FCE = np.concatenate((FCE, np.array([1])))\n    if Dropdown2.value == 'Fijo':\n        FCE = np.concatenate((FCE, np.array([(2 + 2 * BoundedFloatText5.value) * 2 + 1])))\n    FCS = np.setdiff1d(FCT, FCE)\n    MRA = MG[FCS[:,np.newaxis], FCS[np.newaxis,:]]\n    if Checkbox1.value == True:\n        FDN = - (((np.pi / 4) * ((BoundedFloatText2.value / 1000) ** 2 - (BoundedFloatText3.value / 1000) ** 2)) * (BoundedFloatText4.value / 1000) * BoundedFloatText1.value * 9.81) / (3 + 2 * BoundedFloatText5.value)\n    else:\n        FDN = 0\n    MFD = np.repeat(FDN, 3 + 2 * BoundedFloatText5.value).reshape((3 + 2 * BoundedFloatText5.value, 1))\n    MDF = np.zeros((3 + 2 * BoundedFloatText5.value, 1))\n    MDF[1 + BoundedFloatText5.value] = FloatText2.value * 1000\n    MDF = MDF + MFD\n    MDM = np.zeros((3 + 2 * BoundedFloatText5.value, 1))\n    MDM[1 + BoundedFloatText5.value] = FloatText3.value * 1000\n    MFM = np.hstack((MDF, MDM)).reshape((len(MFD) * 2, 1))\n    MRB = MFM[FCS]\n    MRX = np.linalg.solve(MRA, MRB)\n    MPD = np.zeros(((3 + 2 * BoundedFloatText5.value) * 2, 1))\n    MPD[FCS] = MRX\n    MFM = np.dot(MG, MPD)\n    FC = np.array([])\n    MF = np.array([])\n    for i in range(sum(N_E)):\n        MLR = np.dot(ML[i], MPD[(2 * i):(2 * i + 4)])\n        FC = np.concatenate((FC, MLR[0], MLR[2]))\n        MF = np.concatenate((MF, MLR[1], MLR[3]))\n    RD = MPD[range(0, len(MPD), 2)]\n    RP = MPD[range(1, len(MPD), 2)]\n    Dom = np.unique(np.concatenate((np.linspace(0, FloatSlider3.value, BoundedFloatText5.value + 2), np.linspace(FloatSlider3.value, BoundedFloatText4.value, BoundedFloatText5.value + 2))))\n    return RD, RP, MF, FC, MRA, MRB, MRX, Dom\n        \ndef sym_calc(L, EI, AE, AF, F, M, D):\n    Lon_Tra = L\n    Ine_You = EI\n    Apo_Ela = AE\n    Apo_Fij = AF\n    Fue_Nod = F\n    Mom_Nod = M\n    Fue_Dis = D\n\n    Nod_Tot = np.concatenate((np.array([0]), np.cumsum(Lon_Tra[0:2])))\n    Nod_Ini = Nod_Tot[0:2]\n    Nod_Fin = Nod_Tot[1:3]\n    Apo_Tot = Apo_Ela + Apo_Fij\n\n    nvr = ''\n    for i in range(1,np.shape(np.nonzero(Apo_Tot))[1] + 1):\n            var = ' r' + str(i)\n            nvr = nvr + var\n    Cons_0  = sp.var(nvr)\n    Rea_Fue = np.array([0, 0 ,0], dtype = object)\n    Rea_Fue[Apo_Tot > 0] = Cons_0\n    Fue_Nod = Fue_Nod + Rea_Fue\n\n    if sum(Apo_Fij) != 0:\n        nvr = ''\n        for i in range(1,np.shape(np.nonzero(Apo_Fij))[1] + 1):\n                var = ' m' + str(i)\n                nvr = nvr + var\n        Cons_1  = sp.var(nvr)\n        Rea_Mom = np.array([0, 0 ,0], dtype = object)\n        Rea_Mom[Apo_Fij > 0] = Cons_1\n        Mom_Nod = Mom_Nod + Rea_Mom\n\n    x = sp.var('x'); x1 = sp.var('x1'); x2 = sp.var('x2')\n    Com_Fue = np.array([0, 0], dtype = object)\n    Com_Dis = np.array([0, 0], dtype = object)\n    for i in range(2):\n        Com_Fue[i] = sum(Fue_Nod[0:i + 1])\n        Com_Dis[i] = Fue_Dis[i] * (x - Nod_Ini[i])\n    Fue_Equ = Fue_Dis * (Nod_Fin - Nod_Ini)\n    Fue_Equ = np.concatenate((np.array([0]), np.cumsum(Fue_Equ[0:1])))\n\n    Ecu_Cor = np.array([0, 0], dtype = object)\n    for i in range(2):\n        Ecu_Cor[i] = Com_Fue[i] + Com_Dis[i] + Fue_Equ[i]\n\n    x1 = 0\n    Ecu_Mom = np.array([0, 0], dtype = object)\n    for i in range(2):\n        Ecu_1      = sp.integrate(Ecu_Cor[i], x) + x2 + Mom_Nod[i] - x1\n        Ecu_1      = Ecu_1.subs(x, Nod_Ini[i])\n        Ecu_2      = sp.integrate(Ecu_Cor[i], x) + np.array(solve(Ecu_1, x2))[0]\n        Ecu_Mom[i] = Ecu_2\n        x1         = Ecu_2.subs(x, Nod_Fin[i])   \n    Sho_Mom = Ecu_Mom[0]    \n    Sis_Fue = sum(Fue_Nod) + sum(Fue_Dis * (Nod_Fin - Nod_Ini))\n    Sis_Mom = sum(Mom_Nod) + sum(Nod_Fin * Fue_Nod[1:]) + sum((Fue_Dis * (Nod_Fin - Nod_Ini)) * ((Nod_Fin + Nod_Ini) / 2))\n\n    Ecu_Pen = np.array([0, 0], dtype = object)\n    Ecu_Def = np.array([0, 0], dtype = object)\n    for i in range(2):\n        Ecu_Pen[i] = sp.integrate(Ecu_Mom[i], x) + sp.var('c' + str(2 * (i + 1) - 1))\n        Ecu_Def[i] = sp.integrate(Ecu_Pen[i], x) + sp.var('c' + str(2 * (i + 1)))\n    Sho_Def = Ecu_Def[0]\n    Sis_Pen = Ecu_Pen[1].subs(x, Nod_Fin[0]) / Ine_You - Ecu_Pen[0].subs(x, Nod_Fin[0]) / Ine_You\n    Sis_Def = Ecu_Def[1].subs(x, Nod_Fin[0]) / Ine_You - Ecu_Def[0].subs(x, Nod_Fin[0]) / Ine_You\n\n    Sis_Nod = np.array([0, 0], dtype = object)\n    Sis_Nod[0] = Ecu_Def[0].subs(x, Nod_Tot[0])\n    Sis_Nod[1] = Ecu_Def[1].subs(x, Nod_Tot[2])\n    if sum(Apo_Fij) != 0: \n        Sis_Nop = np.zeros((1, np.count_nonzero(Apo_Fij)), dtype = object)[0]\n        j = -1\n        for i in range(3):\n            if Apo_Fij[i] != 0:\n                j = j + 1\n                if Apo_Fij[i] == 1:\n                    Sis_Nop[j] = Ecu_Pen[0].subs(x, Nod_Tot[i])\n                elif Apo_Fij[i] == 3:\n                    Sis_Nop[j] = Ecu_Pen[1].subs(x, Nod_Tot[i])\n        if len(Sis_Nop) == 1:\n            Sis_Ecu = (Sis_Fue, Sis_Mom, Sis_Pen, Sis_Def, Sis_Nod[0], Sis_Nod[1], Sis_Nop[0])\n        else:\n            Sis_Ecu = (Sis_Fue, Sis_Mom, Sis_Pen, Sis_Def, Sis_Nod[0], Sis_Nod[1], Sis_Nop[0], Sis_Nop[1])\n    else:\n        Sis_Ecu = (Sis_Fue, Sis_Mom, Sis_Pen, Sis_Def, Sis_Nod[0], Sis_Nod[1])\n    rpts = sp.solve(Sis_Ecu)\n\n    for i in range(2):\n        Ecu_Def[i] = Ecu_Def[i].subs(c1, rpts[c1])\n        Ecu_Def[i] = Ecu_Def[i].subs(c2, rpts[c2])\n        Ecu_Def[i] = Ecu_Def[i].subs(c3, rpts[c3])\n        Ecu_Def[i] = Ecu_Def[i].subs(c4, rpts[c4])\n        Ecu_Def[i] = Ecu_Def[i].subs(r1, rpts[r1])\n        if sum(Apo_Fij) != 0: \n            Ecu_Def[i] = Ecu_Def[i].subs(m1, rpts[m1])\n\n    Ecu_Def = Ecu_Def / Ine_You\n    for i in range(2):\n        Ecu_Pen[i] = sp.diff(Ecu_Def[i], x)\n        Ecu_Mom[i] = sp.diff(Ecu_Pen[i], x) * Ine_You\n        Ecu_Cor[i] = sp.diff(Ecu_Mom[i], x)\n\n    Dom = np.array([np.linspace(Nod_Tot[0], Nod_Tot[1], 50), np.linspace(Nod_Tot[1], Nod_Tot[2], 50)])\n    Val_Def = np.array([])\n    Val_Pen = np.array([])\n    Val_Mom = np.array([])\n    Val_Cor = np.array([])\n    for i in range(2):\n        flamb = lambdify(x, Ecu_Def[i], \"numpy\")\n        Val_Def = np.append(Val_Def, flamb(Dom[i]))\n        flamb = lambdify(x, Ecu_Pen[i], \"numpy\")\n        Val_Pen = np.append(Val_Pen, flamb(Dom[i]))\n        flamb = lambdify(x, Ecu_Mom[i], \"numpy\")\n        Val_Mom = np.append(Val_Mom, flamb(Dom[i]))\n        flamb = lambdify(x, Ecu_Cor[i], \"numpy\")\n        Val_Cor = np.append(Val_Cor, flamb(Dom[i]))\n    Dom = Dom.reshape(100,) * 1000\n    return Val_Def, Val_Pen, Val_Mom, Val_Cor, Sho_Mom, Sho_Def, Sis_Ecu, rpts, Ecu_Def[0], Ecu_Mom[0], Dom\n\ndef shaft_calc(valor):\n    global Sim_Def, Sim_Pen, Sim_Mom, Sim_Cor, Dom, Num_Def, Num_Pen, Num_Mom, Num_Cor, NDom\n    L = np.array([FloatSlider3.value / 1000, (BoundedFloatText4.value - FloatSlider3.value) / 1000])\n    EI = 2e11 * ((np.pi / 64) * ((BoundedFloatText2.value / 1000) ** 4 - (BoundedFloatText3.value / 1000) ** 4))\n    AE = np.array([0, 0, 0])\n    AF = np.array([0, 0, 0])\n    if Dropdown1.value == 'Elastico':\n        AE[0] = 1\n    else:\n        AF[0] = 1\n    if Dropdown2.value == 'Elastico':\n        AE[2] = 3\n    else:\n        AF[2] = 3\n    F = np.array([0, FloatText2.value * 1000, 0])\n    M = np.array([0, FloatText3.value * 1000, 0])\n    if Checkbox1.value == True:\n        D = ((np.pi / 4) * ((BoundedFloatText2.value / 1000) ** 2 - (BoundedFloatText3.value / 1000) ** 2)) * BoundedFloatText1.value * 9.81\n        D = np.array([-D, -D])\n    else:\n        D = np.array([0, 0])\n    Sim_Def, Sim_Pen, Sim_Mom, Sim_Cor, Sho_Mom, Sho_Def, Sis_Ecu, rpts, Ecu_Def, Ecu_Mom, Dom = sym_calc(L, EI, AE, AF, F, M, D)\n    HTMLMath16.value = f'${latex(Sho_Mom)}$'\n    HTMLMath17.value = f'${latex(Sho_Def)}$'\n    HTMLMath18.value = f'${latex(Sis_Ecu)}$'\n    HTMLMath19.value = f'${latex(rpts)}$'\n    HTMLMath20.value = f'${latex(Ecu_Def)}$'\n    HTMLMath21.value = f'${latex(Ecu_Mom)}$'\n    \n    E  = 2e11\n    I  = (np.pi / 64) * ((BoundedFloatText2.value / 1000) ** 4 - (BoundedFloatText3.value / 1000) ** 4)\n    G   = 77e9\n    Num_Def, Num_Pen, Num_Mom, Num_Cor, MRA, MRB, MRX, NDom = num_calc(L, E, I, G)\n    if BoundedFloatText5.value > 3:\n        P = np.linspace(0, len(MRA) - 1, 14, dtype = 'int')\n        MRA = MRA[P[:,np.newaxis],P[np.newaxis,:]]\n        MRX = MRX[P]\n        MRB = MRB[P]\n    HTMLMath22.value = f'${latex(round_expr(sp.Matrix(MRA), 3))}$'\n    HTMLMath23.value = f'${latex(round_expr(sp.Matrix(MRX), 3))}$'\n    HTMLMath24.value = f'${latex(round_expr(sp.Matrix(MRB), 3))}$'  \n        \n    X = Dom\n    Y = abs(Sim_Def)\n    S1 = np.trapz(y = Y, x = X)\n    S2 = np.trapz(y = Y ** 2, x = X)\n    Sim_Vcr = (30 / np.pi) * np.sqrt(9.81 * abs(S1/ S2))\n    X = NDom\n    Y = abs(Num_Def.T[0])\n    S1 = np.trapz(y = Y, x = X)\n    S2 = np.trapz(y = Y ** 2, x = X)\n    Num_Vcr = (30 / np.pi) * np.sqrt(9.81 * abs(S1/ S2))\n    grid1[1, 1].value = str(max(abs(Sim_Def)))\n    grid1[1, 2].value = str(Sim_Vcr)\n    grid1[2, 1].value = str(max(abs(Num_Def.T[0])))\n    grid1[2, 2].value = str(Num_Vcr)\n    grid1[3, 1].value = str(abs(((max(abs(Sim_Def)) - max(abs(Num_Def.T[0]))) / max(abs(Num_Def.T[0]))) * 100))\n    grid1[3, 2].value = str(abs(((Sim_Vcr - Num_Vcr) / Num_Vcr) * 100))\nButton1.on_click(shaft_calc)\n\ndef draw_graph(valor):\n    if Dropdown3.value == 'Cortantes':\n        ylabel = 'Cortantes (N)'\n        if Checkbox1.value == False:\n            YDom = np.repeat(Sim_Cor, 50)\n        else:\n            YDom = Sim_Cor\n        DomY = Num_Cor[range(0, len(Num_Cor), 2)]\n        DomY = np.append(DomY, -Num_Cor[-1])\n    elif Dropdown3.value == 'Momentos':\n        ylabel = 'Momentos (N.m)'\n        YDom = Sim_Mom\n        DomY = Num_Mom[range(0, len(Num_Mom), 2)]\n        DomY = -np.append(DomY, -Num_Mom[-1])\n    elif Dropdown3.value == 'Pendientes':\n        ylabel = 'Pendientes (rad)'\n        YDom = Sim_Pen\n        DomY = Num_Pen.T[0]\n    elif Dropdown3.value == 'Deflexiones':\n        ylabel = 'Deflexiones (mm)'\n        YDom = Sim_Def * 1000\n        DomY = Num_Def.T[0] * 1000\n    Scatter4.x = NDom\n    Scatter4.y = DomY\n    Scatter4.tooltip = bqp.Tooltip(fields = ['x', 'y'], formats = ['.2f', '.2f'])\n    Scatter4.names = None\n    XDom = np.insert(Dom, 0, 0)\n    XDom = np.append(XDom, BoundedFloatText4.value)\n    YDom = np.insert(YDom, 0, 0)\n    YDom = np.append(YDom, 0)\n    DomX = np.insert(NDom, 0, 0)\n    DomX = np.append(DomX, BoundedFloatText4.value)\n    DomY = np.insert(DomY, 0, 0)\n    DomY = np.append(DomY, 0)\n    Lines3.x = XDom\n    Lines3.y = YDom\n    Lines3.tooltip = bqp.Tooltip(fields = ['x', 'y'], formats = ['.2f', '.2f'])\n    Lines4.x = DomX\n    Lines4.y = DomY\n    fig4.axes[1].label = ylabel\n    fig5.axes[1].label = ylabel\nButton2.on_click(draw_graph)",
      "metadata": {
        "jupyter": {
          "source_hidden": true
        },
        "trusted": true
      },
      "execution_count": 6,
      "outputs": []
    }
  ]
}